{
  "nbformat": 4,
  "nbformat_minor": 0,
  "metadata": {
    "colab": {
      "name": "Transfer Learning CNN",
      "provenance": [],
      "machine_shape": "hm",
      "authorship_tag": "ABX9TyP8nmOIWavnmn4PNbJvFi96",
      "include_colab_link": true
    },
    "kernelspec": {
      "name": "python3",
      "display_name": "Python 3"
    },
    "language_info": {
      "name": "python"
    }
  },
  "cells": [
    {
      "cell_type": "markdown",
      "metadata": {
        "id": "view-in-github",
        "colab_type": "text"
      },
      "source": [
        "<a href=\"https://colab.research.google.com/github/letruong711/Neural-Networks-and-Pneumonia/blob/main/Transfer_Learning_CNN.ipynb\" target=\"_parent\"><img src=\"https://colab.research.google.com/assets/colab-badge.svg\" alt=\"Open In Colab\"/></a>"
      ]
    },
    {
      "cell_type": "code",
      "metadata": {
        "id": "--lLFZH_fbJO"
      },
      "source": [
        "#get more RAM in this notebook\n",
        "[1]*9**10"
      ],
      "execution_count": null,
      "outputs": []
    },
    {
      "cell_type": "markdown",
      "metadata": {
        "id": "kcnC_OFfgVIs"
      },
      "source": [
        "# **Install Libraries.**"
      ]
    },
    {
      "cell_type": "code",
      "metadata": {
        "id": "ayao5mpMfc_1"
      },
      "source": [
        "#install talos\n",
        "!pip install talos"
      ],
      "execution_count": null,
      "outputs": []
    },
    {
      "cell_type": "code",
      "metadata": {
        "id": "IdbbzNcddyew"
      },
      "source": [
        "import pandas as pd\n",
        "import numpy as np\n",
        "import matplotlib.pyplot as plt\n",
        "%matplotlib inline\n",
        "import seaborn as sns\n",
        "\n",
        "import os\n",
        "import glob\n",
        "import random\n",
        "\n",
        "import keras\n",
        "\n",
        "from keras.models import Sequential\n",
        "from keras.layers import Dense\n",
        "from keras.datasets import mnist\n",
        "from keras.models import load_model\n",
        "from keras.wrappers.scikit_learn import KerasClassifier\n",
        "\n",
        "from sklearn.preprocessing import LabelEncoder\n",
        "from sklearn.model_selection import train_test_split\n",
        "from sklearn.model_selection import GridSearchCV\n",
        "from sklearn.metrics import classification_report\n",
        "from sklearn.metrics import confusion_matrix\n",
        "from sklearn.metrics import plot_confusion_matrix, classification_report\n",
        "\n",
        "import tensorflow as tf\n",
        "from tensorflow.keras import layers\n",
        "from tensorflow.keras import Sequential\n",
        "from tensorflow.keras.layers import Dense, Conv2D, Flatten, Dropout, MaxPool2D\n",
        "from tensorflow.keras.preprocessing.image import ImageDataGenerator, array_to_img, img_to_array, load_img\n",
        "from tensorflow.keras.callbacks import EarlyStopping\n",
        "from tensorflow.keras import optimizers\n",
        "\n",
        "import datetime\n",
        "\n",
        "import talos"
      ],
      "execution_count": 2,
      "outputs": []
    },
    {
      "cell_type": "markdown",
      "metadata": {
        "id": "wfQsDnuZk--K"
      },
      "source": [
        "# **Setting Google Drive and Establishing Pathways.**"
      ]
    },
    {
      "cell_type": "code",
      "metadata": {
        "colab": {
          "base_uri": "https://localhost:8080/"
        },
        "id": "uwDve70sjo1T",
        "outputId": "dcfa2fd2-7a56-4f9c-88a1-94a1f7b151a7"
      },
      "source": [
        "#mount google drive\n",
        "from google.colab import drive\n",
        "drive.mount('/content/drive')"
      ],
      "execution_count": 3,
      "outputs": [
        {
          "output_type": "stream",
          "name": "stdout",
          "text": [
            "Mounted at /content/drive\n"
          ]
        }
      ]
    },
    {
      "cell_type": "code",
      "metadata": {
        "id": "kzNKRfY4kP5C"
      },
      "source": [
        "#setting up bridge between collab and drive\n",
        "!pip install -U -q PyDrive\n",
        "from pydrive.auth import GoogleAuth\n",
        "from pydrive.drive import GoogleDrive\n",
        "from google.colab import auth\n",
        "from oauth2client.client import GoogleCredentials"
      ],
      "execution_count": 4,
      "outputs": []
    },
    {
      "cell_type": "code",
      "metadata": {
        "id": "IF036Lv_khqY"
      },
      "source": [
        "auth.authenticate_user()\n",
        "gauth = GoogleAuth()\n",
        "gauth.credentials = GoogleCredentials.get_application_default()\n",
        "drive = GoogleDrive(gauth)"
      ],
      "execution_count": 5,
      "outputs": []
    },
    {
      "cell_type": "code",
      "metadata": {
        "id": "1GWO3Mt6k2MQ"
      },
      "source": [
        "fid = drive.ListFile({'q': \"title='archive.zip'\"}).GetList()[0]['id']\n",
        "f = drive.CreateFile({'id':fid})\n",
        "f.GetContentFile('archive.zip')"
      ],
      "execution_count": 6,
      "outputs": []
    },
    {
      "cell_type": "code",
      "metadata": {
        "id": "ejJv5VGrk5sg"
      },
      "source": [
        "#unzip massive file.\n",
        "!unzip archive.zip"
      ],
      "execution_count": null,
      "outputs": []
    },
    {
      "cell_type": "code",
      "metadata": {
        "id": "YdmOSotlk6WA"
      },
      "source": [
        "PATH = '/content/chest_xray'"
      ],
      "execution_count": 8,
      "outputs": []
    },
    {
      "cell_type": "code",
      "metadata": {
        "id": "R0iOT6eWk76h"
      },
      "source": [
        "train_dir = os.path.join(PATH, 'train')\n",
        "test_dir = os.path.join(PATH, 'test')\n",
        "val_dir = os.path.join(PATH, 'val')"
      ],
      "execution_count": 9,
      "outputs": []
    },
    {
      "cell_type": "markdown",
      "metadata": {
        "id": "u-8eTY71lSgx"
      },
      "source": [
        "# **Preprocessing.**"
      ]
    },
    {
      "cell_type": "code",
      "metadata": {
        "id": "MDp2XwPTlRax"
      },
      "source": [
        "#create function that helps us visualize our model\n",
        "def visualize_training_results(results):\n",
        "    history = results.history\n",
        "    plt.figure()\n",
        "    plt.plot(history['val_loss'])\n",
        "    plt.plot(history['loss'])\n",
        "    plt.legend(['val_loss', 'loss'])\n",
        "    plt.title('Loss')\n",
        "    plt.xlabel('Epochs')\n",
        "    plt.ylabel('Loss')\n",
        "    plt.show()\n",
        "    \n",
        "    plt.figure()\n",
        "    plt.plot(history['val_accuracy'])\n",
        "    plt.plot(history['accuracy'])\n",
        "    plt.legend(['val_acc_accuracy', 'accuracy'])\n",
        "    plt.title('Accuracy')\n",
        "    plt.xlabel('Epochs')\n",
        "    plt.ylabel('Accuracy')\n",
        "    plt.show()"
      ],
      "execution_count": 10,
      "outputs": []
    },
    {
      "cell_type": "code",
      "metadata": {
        "id": "V6uBeHhklu6p"
      },
      "source": [
        "#set image dimensions\n",
        "IMG_HEIGHT = 224\n",
        "IMG_WIDTH = 224\n",
        "batch_size = 624"
      ],
      "execution_count": 11,
      "outputs": []
    },
    {
      "cell_type": "code",
      "metadata": {
        "id": "7h_Mr-0LlwYw"
      },
      "source": [
        "image_gen = ImageDataGenerator(rescale = 1./255)"
      ],
      "execution_count": 12,
      "outputs": []
    },
    {
      "cell_type": "code",
      "metadata": {
        "colab": {
          "base_uri": "https://localhost:8080/"
        },
        "id": "JofmYrK4l7YY",
        "outputId": "59a87262-be8d-4197-de7f-1535e0e001f6"
      },
      "source": [
        "train_data_gen = image_gen.flow_from_directory(\n",
        "    directory=train_dir,\n",
        "    shuffle=True,\n",
        "    target_size=(IMG_HEIGHT, IMG_WIDTH),\n",
        "    batch_size= 5216,\n",
        "    class_mode='binary')\n",
        "\n",
        "test_data_gen = image_gen.flow_from_directory(\n",
        "    directory = test_dir,\n",
        "    target_size = (IMG_HEIGHT, IMG_WIDTH),\n",
        "    batch_size = batch_size,\n",
        "    class_mode='binary')"
      ],
      "execution_count": 13,
      "outputs": [
        {
          "output_type": "stream",
          "name": "stdout",
          "text": [
            "Found 5216 images belonging to 2 classes.\n",
            "Found 624 images belonging to 2 classes.\n"
          ]
        }
      ]
    },
    {
      "cell_type": "code",
      "metadata": {
        "id": "LOth3sQPl9an"
      },
      "source": [
        "#creating X and y test, train datasets\n",
        "X_train, y_train = next(train_data_gen)\n",
        "X_test, y_test = next(test_data_gen)"
      ],
      "execution_count": 14,
      "outputs": []
    },
    {
      "cell_type": "markdown",
      "metadata": {
        "id": "whGthFbHnCdP"
      },
      "source": [
        "# **Establishing Model.**"
      ]
    },
    {
      "cell_type": "code",
      "metadata": {
        "id": "80Ww85WW2erm"
      },
      "source": [
        "#loading VGG16 from Keras library\n",
        "from keras.applications.vgg16 import VGG16"
      ],
      "execution_count": 15,
      "outputs": []
    },
    {
      "cell_type": "code",
      "metadata": {
        "colab": {
          "base_uri": "https://localhost:8080/"
        },
        "id": "XHgi77xVnByv",
        "outputId": "7b415f4a-cfcc-48cc-8238-cb80bc0aa4f6"
      },
      "source": [
        "pretrained = VGG16(weights = 'imagenet', \n",
        "                   include_top = False, \n",
        "                   input_shape = (224, 224, 3),\n",
        "                   pooling = 'avg')"
      ],
      "execution_count": 16,
      "outputs": [
        {
          "output_type": "stream",
          "name": "stdout",
          "text": [
            "Downloading data from https://storage.googleapis.com/tensorflow/keras-applications/vgg16/vgg16_weights_tf_dim_ordering_tf_kernels_notop.h5\n",
            "58892288/58889256 [==============================] - 1s 0us/step\n",
            "58900480/58889256 [==============================] - 1s 0us/step\n"
          ]
        }
      ]
    },
    {
      "cell_type": "code",
      "metadata": {
        "colab": {
          "base_uri": "https://localhost:8080/"
        },
        "id": "fWFgYG7GnFzf",
        "outputId": "fa48969d-621f-4990-d6ca-6f294ed72580"
      },
      "source": [
        "pretrained.summary()"
      ],
      "execution_count": 17,
      "outputs": [
        {
          "output_type": "stream",
          "name": "stdout",
          "text": [
            "Model: \"vgg16\"\n",
            "_________________________________________________________________\n",
            " Layer (type)                Output Shape              Param #   \n",
            "=================================================================\n",
            " input_1 (InputLayer)        [(None, 224, 224, 3)]     0         \n",
            "                                                                 \n",
            " block1_conv1 (Conv2D)       (None, 224, 224, 64)      1792      \n",
            "                                                                 \n",
            " block1_conv2 (Conv2D)       (None, 224, 224, 64)      36928     \n",
            "                                                                 \n",
            " block1_pool (MaxPooling2D)  (None, 112, 112, 64)      0         \n",
            "                                                                 \n",
            " block2_conv1 (Conv2D)       (None, 112, 112, 128)     73856     \n",
            "                                                                 \n",
            " block2_conv2 (Conv2D)       (None, 112, 112, 128)     147584    \n",
            "                                                                 \n",
            " block2_pool (MaxPooling2D)  (None, 56, 56, 128)       0         \n",
            "                                                                 \n",
            " block3_conv1 (Conv2D)       (None, 56, 56, 256)       295168    \n",
            "                                                                 \n",
            " block3_conv2 (Conv2D)       (None, 56, 56, 256)       590080    \n",
            "                                                                 \n",
            " block3_conv3 (Conv2D)       (None, 56, 56, 256)       590080    \n",
            "                                                                 \n",
            " block3_pool (MaxPooling2D)  (None, 28, 28, 256)       0         \n",
            "                                                                 \n",
            " block4_conv1 (Conv2D)       (None, 28, 28, 512)       1180160   \n",
            "                                                                 \n",
            " block4_conv2 (Conv2D)       (None, 28, 28, 512)       2359808   \n",
            "                                                                 \n",
            " block4_conv3 (Conv2D)       (None, 28, 28, 512)       2359808   \n",
            "                                                                 \n",
            " block4_pool (MaxPooling2D)  (None, 14, 14, 512)       0         \n",
            "                                                                 \n",
            " block5_conv1 (Conv2D)       (None, 14, 14, 512)       2359808   \n",
            "                                                                 \n",
            " block5_conv2 (Conv2D)       (None, 14, 14, 512)       2359808   \n",
            "                                                                 \n",
            " block5_conv3 (Conv2D)       (None, 14, 14, 512)       2359808   \n",
            "                                                                 \n",
            " block5_pool (MaxPooling2D)  (None, 7, 7, 512)         0         \n",
            "                                                                 \n",
            " global_average_pooling2d (G  (None, 512)              0         \n",
            " lobalAveragePooling2D)                                          \n",
            "                                                                 \n",
            "=================================================================\n",
            "Total params: 14,714,688\n",
            "Trainable params: 14,714,688\n",
            "Non-trainable params: 0\n",
            "_________________________________________________________________\n"
          ]
        }
      ]
    },
    {
      "cell_type": "code",
      "metadata": {
        "id": "1Xuyru5OmD9Z"
      },
      "source": [
        "#defining CNN\n",
        "pretrained_cnn = Sequential()\n",
        "pretrained_cnn.add(pretrained)\n",
        "\n",
        "# freezing layers so they don't get retrained with your new data\n",
        "for layer in pretrained_cnn.layers:\n",
        "    layer.trainable = False "
      ],
      "execution_count": 18,
      "outputs": []
    },
    {
      "cell_type": "code",
      "metadata": {
        "id": "I7YaY1e_2zl9"
      },
      "source": [
        "# Adding our own dense layers\n",
        "\n",
        "pretrained_cnn.add(layers.Flatten())\n",
        "\n",
        "pretrained_cnn.add(layers.Dropout(rate = 0.2))\n",
        "pretrained_cnn.add(layers.Dense(192, activation = 'tanh'))\n",
        "\n",
        "pretrained_cnn.add(layers.Dropout(rate = 0.2))\n",
        "pretrained_cnn.add(layers.Dense(256, activation = 'tanh'))\n",
        "\n",
        "pretrained_cnn.add(layers.Dense(1, activation = 'sigmoid'))"
      ],
      "execution_count": 21,
      "outputs": []
    },
    {
      "cell_type": "code",
      "metadata": {
        "colab": {
          "base_uri": "https://localhost:8080/"
        },
        "id": "n6-RQnRk8GG0",
        "outputId": "4cc8a84f-6eca-4021-cf97-381f08d0c8fd"
      },
      "source": [
        "# Verifying that the weights are \"frozen\" \n",
        "\n",
        "for layer in pretrained_cnn.layers:\n",
        "    print(layer.name, layer.trainable)"
      ],
      "execution_count": 22,
      "outputs": [
        {
          "output_type": "stream",
          "name": "stdout",
          "text": [
            "vgg16 False\n",
            "flatten True\n",
            "dropout True\n",
            "dense True\n",
            "dropout_1 True\n",
            "dense_1 True\n",
            "dense_2 True\n",
            "flatten_1 True\n",
            "dropout_2 True\n",
            "dense_3 True\n",
            "dropout_3 True\n",
            "dense_4 True\n",
            "dense_5 True\n"
          ]
        }
      ]
    },
    {
      "cell_type": "code",
      "metadata": {
        "id": "76PRznkb8aDj"
      },
      "source": [
        "#compile the model\n",
        "pretrained_cnn.compile(loss = 'binary_crossentropy', \n",
        "            optimizer = 'RMSprop', \n",
        "            metrics = ['binary_accuracy'])"
      ],
      "execution_count": 23,
      "outputs": []
    },
    {
      "cell_type": "code",
      "metadata": {
        "colab": {
          "base_uri": "https://localhost:8080/"
        },
        "id": "q7VG1UGt9sI4",
        "outputId": "de0d10c2-a6d9-478e-9b0d-b85d99336bc2"
      },
      "source": [
        "#reviewing the model\n",
        "\n",
        "pretrained_cnn.summary()"
      ],
      "execution_count": 24,
      "outputs": [
        {
          "output_type": "stream",
          "name": "stdout",
          "text": [
            "Model: \"sequential\"\n",
            "_________________________________________________________________\n",
            " Layer (type)                Output Shape              Param #   \n",
            "=================================================================\n",
            " vgg16 (Functional)          (None, 512)               14714688  \n",
            "                                                                 \n",
            " flatten (Flatten)           (None, 512)               0         \n",
            "                                                                 \n",
            " dropout (Dropout)           (None, 512)               0         \n",
            "                                                                 \n",
            " dense (Dense)               (None, 192)               98496     \n",
            "                                                                 \n",
            " dropout_1 (Dropout)         (None, 192)               0         \n",
            "                                                                 \n",
            " dense_1 (Dense)             (None, 256)               49408     \n",
            "                                                                 \n",
            " dense_2 (Dense)             (None, 1)                 257       \n",
            "                                                                 \n",
            " flatten_1 (Flatten)         (None, 1)                 0         \n",
            "                                                                 \n",
            " dropout_2 (Dropout)         (None, 1)                 0         \n",
            "                                                                 \n",
            " dense_3 (Dense)             (None, 192)               384       \n",
            "                                                                 \n",
            " dropout_3 (Dropout)         (None, 192)               0         \n",
            "                                                                 \n",
            " dense_4 (Dense)             (None, 256)               49408     \n",
            "                                                                 \n",
            " dense_5 (Dense)             (None, 1)                 257       \n",
            "                                                                 \n",
            "=================================================================\n",
            "Total params: 14,912,898\n",
            "Trainable params: 198,210\n",
            "Non-trainable params: 14,714,688\n",
            "_________________________________________________________________\n"
          ]
        }
      ]
    },
    {
      "cell_type": "code",
      "metadata": {
        "id": "WptnRAjYvYKM"
      },
      "source": [
        "# This will stop training when the monitored metric has stopped improving\n",
        "# This might be more useful when fine tuning a model\n",
        "\n",
        "early_stopping = EarlyStopping(patience = 25,               \n",
        "                               monitor = 'val_binary_accuracy',\n",
        "                               restore_best_weights = True) \n",
        "\n",
        "# Patience = After 25 epochs with no improvement, training will be stopped\n",
        "# Monitor = Validation Binary Accuracy is the quantity being monitored for the patience level\n",
        "# Restoring model weights from the epoch with the best value of the monitored quantity"
      ],
      "execution_count": 25,
      "outputs": []
    },
    {
      "cell_type": "markdown",
      "metadata": {
        "id": "WL0sl2xhOWWs"
      },
      "source": [
        "# **Fitting Model.**"
      ]
    },
    {
      "cell_type": "code",
      "metadata": {
        "colab": {
          "base_uri": "https://localhost:8080/"
        },
        "id": "h4xQu3p-vdID",
        "outputId": "39d7c2da-aef7-4312-bb95-1f7a26a6a92c"
      },
      "source": [
        "results_3 = pretrained_cnn.fit(X_train, \n",
        "                    y_train,\n",
        "                    batch_size = 50, \n",
        "                    epochs = 300,\n",
        "                    validation_data = (X_test, y_test),\n",
        "                    callbacks = [early_stopping])"
      ],
      "execution_count": 26,
      "outputs": [
        {
          "output_type": "stream",
          "name": "stdout",
          "text": [
            "Epoch 1/300\n",
            "105/105 [==============================] - 653s 6s/step - loss: 0.4679 - binary_accuracy: 0.7350 - val_loss: 0.4585 - val_binary_accuracy: 0.8269\n",
            "Epoch 2/300\n",
            "105/105 [==============================] - 649s 6s/step - loss: 0.3976 - binary_accuracy: 0.7412 - val_loss: 0.4290 - val_binary_accuracy: 0.8221\n",
            "Epoch 3/300\n",
            "105/105 [==============================] - 651s 6s/step - loss: 0.3827 - binary_accuracy: 0.7613 - val_loss: 0.4628 - val_binary_accuracy: 0.6250\n",
            "Epoch 4/300\n",
            "105/105 [==============================] - 648s 6s/step - loss: 0.3728 - binary_accuracy: 0.7726 - val_loss: 0.4821 - val_binary_accuracy: 0.8462\n",
            "Epoch 5/300\n",
            "105/105 [==============================] - 649s 6s/step - loss: 0.3652 - binary_accuracy: 0.7830 - val_loss: 0.5856 - val_binary_accuracy: 0.8269\n",
            "Epoch 6/300\n",
            "105/105 [==============================] - 650s 6s/step - loss: 0.3569 - binary_accuracy: 0.7945 - val_loss: 0.3977 - val_binary_accuracy: 0.8846\n",
            "Epoch 7/300\n",
            "105/105 [==============================] - 651s 6s/step - loss: 0.3560 - binary_accuracy: 0.7882 - val_loss: 0.6447 - val_binary_accuracy: 0.7853\n",
            "Epoch 8/300\n",
            "105/105 [==============================] - 650s 6s/step - loss: 0.3499 - binary_accuracy: 0.7964 - val_loss: 0.4674 - val_binary_accuracy: 0.8734\n",
            "Epoch 9/300\n",
            "105/105 [==============================] - 650s 6s/step - loss: 0.3444 - binary_accuracy: 0.8027 - val_loss: 0.5736 - val_binary_accuracy: 0.7981\n",
            "Epoch 10/300\n",
            "105/105 [==============================] - 652s 6s/step - loss: 0.3576 - binary_accuracy: 0.7928 - val_loss: 0.5011 - val_binary_accuracy: 0.8381\n",
            "Epoch 11/300\n",
            "105/105 [==============================] - 648s 6s/step - loss: 0.3479 - binary_accuracy: 0.7975 - val_loss: 0.4928 - val_binary_accuracy: 0.7965\n",
            "Epoch 12/300\n",
            "105/105 [==============================] - 653s 6s/step - loss: 0.3409 - binary_accuracy: 0.8052 - val_loss: 0.6304 - val_binary_accuracy: 0.8013\n",
            "Epoch 13/300\n",
            "105/105 [==============================] - 648s 6s/step - loss: 0.3436 - binary_accuracy: 0.8056 - val_loss: 0.6569 - val_binary_accuracy: 0.7532\n",
            "Epoch 14/300\n",
            "105/105 [==============================] - 649s 6s/step - loss: 0.3473 - binary_accuracy: 0.7985 - val_loss: 0.4937 - val_binary_accuracy: 0.8077\n",
            "Epoch 15/300\n",
            "105/105 [==============================] - 652s 6s/step - loss: 0.3338 - binary_accuracy: 0.8085 - val_loss: 0.6570 - val_binary_accuracy: 0.7997\n",
            "Epoch 16/300\n",
            "105/105 [==============================] - 647s 6s/step - loss: 0.3471 - binary_accuracy: 0.7947 - val_loss: 0.3899 - val_binary_accuracy: 0.8766\n",
            "Epoch 17/300\n",
            "105/105 [==============================] - 650s 6s/step - loss: 0.3523 - binary_accuracy: 0.7924 - val_loss: 0.5595 - val_binary_accuracy: 0.8061\n",
            "Epoch 18/300\n",
            "105/105 [==============================] - 651s 6s/step - loss: 0.3376 - binary_accuracy: 0.8058 - val_loss: 0.5326 - val_binary_accuracy: 0.8109\n",
            "Epoch 19/300\n",
            "105/105 [==============================] - 652s 6s/step - loss: 0.3388 - binary_accuracy: 0.8064 - val_loss: 0.6722 - val_binary_accuracy: 0.7740\n",
            "Epoch 20/300\n",
            "105/105 [==============================] - 647s 6s/step - loss: 0.3331 - binary_accuracy: 0.8146 - val_loss: 0.6144 - val_binary_accuracy: 0.7708\n",
            "Epoch 21/300\n",
            "105/105 [==============================] - 650s 6s/step - loss: 0.3309 - binary_accuracy: 0.8123 - val_loss: 1.2869 - val_binary_accuracy: 0.6378\n",
            "Epoch 22/300\n",
            "105/105 [==============================] - 648s 6s/step - loss: 0.3344 - binary_accuracy: 0.8083 - val_loss: 0.6248 - val_binary_accuracy: 0.8269\n",
            "Epoch 23/300\n",
            "105/105 [==============================] - 649s 6s/step - loss: 0.3365 - binary_accuracy: 0.8127 - val_loss: 0.6828 - val_binary_accuracy: 0.7821\n",
            "Epoch 24/300\n",
            "105/105 [==============================] - 655s 6s/step - loss: 0.3447 - binary_accuracy: 0.7977 - val_loss: 0.4086 - val_binary_accuracy: 0.9006\n",
            "Epoch 25/300\n",
            "105/105 [==============================] - 648s 6s/step - loss: 0.3323 - binary_accuracy: 0.8079 - val_loss: 0.7254 - val_binary_accuracy: 0.7965\n",
            "Epoch 26/300\n",
            "105/105 [==============================] - 651s 6s/step - loss: 0.3329 - binary_accuracy: 0.8110 - val_loss: 0.4447 - val_binary_accuracy: 0.8702\n",
            "Epoch 27/300\n",
            "105/105 [==============================] - 650s 6s/step - loss: 0.3339 - binary_accuracy: 0.8077 - val_loss: 0.3693 - val_binary_accuracy: 0.8990\n",
            "Epoch 28/300\n",
            "105/105 [==============================] - 652s 6s/step - loss: 0.3339 - binary_accuracy: 0.8081 - val_loss: 0.7489 - val_binary_accuracy: 0.7420\n",
            "Epoch 29/300\n",
            "105/105 [==============================] - 648s 6s/step - loss: 0.3252 - binary_accuracy: 0.8175 - val_loss: 0.6943 - val_binary_accuracy: 0.7821\n",
            "Epoch 30/300\n",
            "105/105 [==============================] - 650s 6s/step - loss: 0.3258 - binary_accuracy: 0.8148 - val_loss: 0.3883 - val_binary_accuracy: 0.8990\n",
            "Epoch 31/300\n",
            "105/105 [==============================] - 654s 6s/step - loss: 0.3334 - binary_accuracy: 0.8046 - val_loss: 0.3811 - val_binary_accuracy: 0.8974\n",
            "Epoch 32/300\n",
            "105/105 [==============================] - 648s 6s/step - loss: 0.3262 - binary_accuracy: 0.8173 - val_loss: 0.3818 - val_binary_accuracy: 0.8974\n",
            "Epoch 33/300\n",
            "105/105 [==============================] - 650s 6s/step - loss: 0.3349 - binary_accuracy: 0.8090 - val_loss: 0.4095 - val_binary_accuracy: 0.8750\n",
            "Epoch 34/300\n",
            "105/105 [==============================] - 654s 6s/step - loss: 0.3281 - binary_accuracy: 0.8087 - val_loss: 0.4783 - val_binary_accuracy: 0.8606\n",
            "Epoch 35/300\n",
            "105/105 [==============================] - 648s 6s/step - loss: 0.3278 - binary_accuracy: 0.8117 - val_loss: 0.8033 - val_binary_accuracy: 0.7660\n",
            "Epoch 36/300\n",
            "105/105 [==============================] - 650s 6s/step - loss: 0.3356 - binary_accuracy: 0.8058 - val_loss: 0.6037 - val_binary_accuracy: 0.7821\n",
            "Epoch 37/300\n",
            "105/105 [==============================] - 654s 6s/step - loss: 0.3278 - binary_accuracy: 0.8125 - val_loss: 0.5373 - val_binary_accuracy: 0.8349\n",
            "Epoch 38/300\n",
            "105/105 [==============================] - 648s 6s/step - loss: 0.3269 - binary_accuracy: 0.8131 - val_loss: 0.4168 - val_binary_accuracy: 0.8830\n",
            "Epoch 39/300\n",
            "105/105 [==============================] - 650s 6s/step - loss: 0.3288 - binary_accuracy: 0.8112 - val_loss: 0.3837 - val_binary_accuracy: 0.9022\n",
            "Epoch 40/300\n",
            "105/105 [==============================] - 654s 6s/step - loss: 0.3276 - binary_accuracy: 0.8181 - val_loss: 0.4515 - val_binary_accuracy: 0.8718\n",
            "Epoch 41/300\n",
            "105/105 [==============================] - 647s 6s/step - loss: 0.3330 - binary_accuracy: 0.8125 - val_loss: 0.4134 - val_binary_accuracy: 0.8606\n",
            "Epoch 42/300\n",
            "105/105 [==============================] - 650s 6s/step - loss: 0.3294 - binary_accuracy: 0.8115 - val_loss: 0.3787 - val_binary_accuracy: 0.8990\n",
            "Epoch 43/300\n",
            "105/105 [==============================] - 650s 6s/step - loss: 0.3317 - binary_accuracy: 0.8098 - val_loss: 0.6203 - val_binary_accuracy: 0.8013\n",
            "Epoch 44/300\n",
            "105/105 [==============================] - 653s 6s/step - loss: 0.3162 - binary_accuracy: 0.8238 - val_loss: 0.8281 - val_binary_accuracy: 0.7099\n",
            "Epoch 45/300\n",
            "105/105 [==============================] - 648s 6s/step - loss: 0.3323 - binary_accuracy: 0.8060 - val_loss: 0.4748 - val_binary_accuracy: 0.8590\n",
            "Epoch 46/300\n",
            "105/105 [==============================] - 650s 6s/step - loss: 0.3247 - binary_accuracy: 0.8087 - val_loss: 0.8519 - val_binary_accuracy: 0.7708\n",
            "Epoch 47/300\n",
            "105/105 [==============================] - 650s 6s/step - loss: 0.3307 - binary_accuracy: 0.8100 - val_loss: 0.4805 - val_binary_accuracy: 0.8301\n",
            "Epoch 48/300\n",
            "105/105 [==============================] - 650s 6s/step - loss: 0.3165 - binary_accuracy: 0.8230 - val_loss: 0.5301 - val_binary_accuracy: 0.8606\n",
            "Epoch 49/300\n",
            "105/105 [==============================] - 652s 6s/step - loss: 0.3188 - binary_accuracy: 0.8198 - val_loss: 0.6158 - val_binary_accuracy: 0.8317\n",
            "Epoch 50/300\n",
            "105/105 [==============================] - 648s 6s/step - loss: 0.3214 - binary_accuracy: 0.8186 - val_loss: 0.5219 - val_binary_accuracy: 0.8317\n",
            "Epoch 51/300\n",
            "105/105 [==============================] - 650s 6s/step - loss: 0.3222 - binary_accuracy: 0.8171 - val_loss: 0.4685 - val_binary_accuracy: 0.8349\n",
            "Epoch 52/300\n",
            "105/105 [==============================] - 652s 6s/step - loss: 0.3212 - binary_accuracy: 0.8204 - val_loss: 0.4734 - val_binary_accuracy: 0.8798\n",
            "Epoch 53/300\n",
            "105/105 [==============================] - 652s 6s/step - loss: 0.3252 - binary_accuracy: 0.8152 - val_loss: 0.5392 - val_binary_accuracy: 0.7997\n",
            "Epoch 54/300\n",
            "105/105 [==============================] - 648s 6s/step - loss: 0.3197 - binary_accuracy: 0.8165 - val_loss: 0.7539 - val_binary_accuracy: 0.7756\n",
            "Epoch 55/300\n",
            "105/105 [==============================] - 650s 6s/step - loss: 0.3304 - binary_accuracy: 0.8119 - val_loss: 0.7265 - val_binary_accuracy: 0.7628\n",
            "Epoch 56/300\n",
            "105/105 [==============================] - 651s 6s/step - loss: 0.3288 - binary_accuracy: 0.8108 - val_loss: 0.5687 - val_binary_accuracy: 0.8189\n",
            "Epoch 57/300\n",
            "105/105 [==============================] - 648s 6s/step - loss: 0.3262 - binary_accuracy: 0.8142 - val_loss: 0.5409 - val_binary_accuracy: 0.8285\n",
            "Epoch 58/300\n",
            "105/105 [==============================] - 652s 6s/step - loss: 0.3272 - binary_accuracy: 0.8129 - val_loss: 0.5528 - val_binary_accuracy: 0.8494\n",
            "Epoch 59/300\n",
            "105/105 [==============================] - 648s 6s/step - loss: 0.3198 - binary_accuracy: 0.8183 - val_loss: 0.4947 - val_binary_accuracy: 0.8365\n",
            "Epoch 60/300\n",
            "105/105 [==============================] - 652s 6s/step - loss: 0.3224 - binary_accuracy: 0.8221 - val_loss: 0.4807 - val_binary_accuracy: 0.8317\n",
            "Epoch 61/300\n",
            "105/105 [==============================] - 648s 6s/step - loss: 0.3258 - binary_accuracy: 0.8160 - val_loss: 0.5257 - val_binary_accuracy: 0.8542\n",
            "Epoch 62/300\n",
            "105/105 [==============================] - 650s 6s/step - loss: 0.3255 - binary_accuracy: 0.8146 - val_loss: 0.5614 - val_binary_accuracy: 0.7965\n",
            "Epoch 63/300\n",
            "105/105 [==============================] - 653s 6s/step - loss: 0.3276 - binary_accuracy: 0.8125 - val_loss: 0.4955 - val_binary_accuracy: 0.8542\n",
            "Epoch 64/300\n",
            "105/105 [==============================] - 653s 6s/step - loss: 0.3149 - binary_accuracy: 0.8275 - val_loss: 0.3910 - val_binary_accuracy: 0.9022\n"
          ]
        }
      ]
    },
    {
      "cell_type": "markdown",
      "metadata": {
        "id": "2P4wEPqHOaEb"
      },
      "source": [
        "# **Vizualizing Results.**"
      ]
    },
    {
      "cell_type": "code",
      "metadata": {
        "id": "LrBAHJU9LU70"
      },
      "source": [
        "def visualize_training_results(results, model, test_images, test_labels):\n",
        "    history = results.history\n",
        "    plt.figure()\n",
        "    plt.plot(history['val_loss'])\n",
        "    plt.plot(history['loss'])\n",
        "    plt.legend(['val_loss', 'loss'])\n",
        "    plt.title('Loss')\n",
        "    plt.xlabel('Epochs')\n",
        "    plt.ylabel('Loss')\n",
        "    plt.show()\n",
        "    \n",
        "    plt.figure()\n",
        "    plt.plot(history['val_binary_accuracy'])\n",
        "    plt.plot(history['binary_accuracy'])\n",
        "    plt.legend(['val_binary_accuracy', 'binary_accuracy'])\n",
        "    plt.title('Binary Accuracy')\n",
        "    plt.xlabel('Epochs')\n",
        "    plt.ylabel('Accuracy')\n",
        "    plt.show()\n",
        "       \n",
        "    y_hat_test = model.predict(test_images)\n",
        "    thresh = 0.5\n",
        "    y_pred = (y_hat_test > thresh).astype(np.int)\n",
        "    y_true = test_labels.astype(np.int)\n",
        "    cm = confusion_matrix(y_true, y_pred)\n",
        "    sns.heatmap(cm, annot=True, cmap='Blues', fmt='0.5g')\n",
        "    plt.xlabel('Predictions')\n",
        "    plt.ylabel('Actuals')\n",
        "    plt.title('Confusion Matrix')\n",
        "    plt.show()\n",
        "\n",
        "    print(classification_report(y_true, y_pred))\n",
        "    print('\\n')\n",
        "    print('\\n')\n",
        "    print('Evaluating the Performance')\n",
        "    print('\\n')\n",
        "    \n",
        "    test_score = model.evaluate(test_images, test_labels, verbose = 0)\n",
        "    print(f'Test Loss: {test_score[0]}')\n",
        "    print(f'Test Accuracy: {test_score[1]}')"
      ],
      "execution_count": 28,
      "outputs": []
    },
    {
      "cell_type": "code",
      "metadata": {
        "colab": {
          "base_uri": "https://localhost:8080/",
          "height": 1000
        },
        "id": "50bz4Y6hL263",
        "outputId": "459b9ed1-586b-4900-ec01-1424e87f5e47"
      },
      "source": [
        "visualize_training_results(results_3, pretrained_cnn, X_test, y_test)"
      ],
      "execution_count": 30,
      "outputs": [
        {
          "output_type": "display_data",
          "data": {
            "image/png": "[encoded data removed]",
            "text/plain": [
              "<Figure size 432x288 with 1 Axes>"
            ]
          },
          "metadata": {
            "needs_background": "light"
          }
        },
        {
          "output_type": "display_data",
          "data": {
            "image/png": "[encoded data removed]",
            "text/plain": [
              "<Figure size 432x288 with 1 Axes>"
            ]
          },
          "metadata": {
            "needs_background": "light"
          }
        },
        {
          "output_type": "display_data",
          "data": {
            "image/png": "[encoded data removed]",
            "text/plain": [
              "<Figure size 432x288 with 2 Axes>"
            ]
          },
          "metadata": {
            "needs_background": "light"
          }
        },
        {
          "output_type": "stream",
          "name": "stdout",
          "text": [
            "              precision    recall  f1-score   support\n",
            "\n",
            "           0       0.89      0.84      0.87       234\n",
            "           1       0.91      0.94      0.92       390\n",
            "\n",
            "    accuracy                           0.90       624\n",
            "   macro avg       0.90      0.89      0.89       624\n",
            "weighted avg       0.90      0.90      0.90       624\n",
            "\n",
            "\n",
            "\n",
            "\n",
            "\n",
            "Evaluating the Performance\n",
            "\n",
            "\n",
            "Test Loss: 0.38365721702575684\n",
            "Test Accuracy: 0.9022436141967773\n"
          ]
        }
      ]
    },
    {
      "cell_type": "code",
      "metadata": {
        "id": "y9nZjeAgMDuo"
      },
      "source": [
        "!mkdir -p saved_model\n",
        "pretrained_cnn.save('pretrained_cnn.h5')\n",
        "pretrained_cnn.save_weights('pretrained_weights.h5')"
      ],
      "execution_count": 31,
      "outputs": []
    },
    {
      "cell_type": "markdown",
      "metadata": {
        "id": "RmbVPCWUNJMa"
      },
      "source": [
        "# **Transfer Learning CNN Results.**\n",
        "- Using VGG16, we were able to achieve 90% accuracy.\n",
        "- Confusion Matrix actually was able to show us True Positives and True Negatives. \n",
        "- We were able to achieve this using VGG16, early stopping, different activation, and different optimizer. \n",
        "- Both curves never smooth out and stabilize."
      ]
    }
  ]
}