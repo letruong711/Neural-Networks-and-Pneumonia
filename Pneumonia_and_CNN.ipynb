{
 "cells": [
  {
   "cell_type": "markdown",
   "metadata": {
    "colab_type": "text",
    "id": "view-in-github"
   },
   "source": [
    "<a href=\"https://colab.research.google.com/github/letruong711/Neural-Networks-and-Pneumonia/blob/main/Pneumonia_and_CNN.ipynb\" target=\"_parent\"><img src=\"https://colab.research.google.com/assets/colab-badge.svg\" alt=\"Open In Colab\"/></a>"
   ]
  },
  {
   "cell_type": "markdown",
   "metadata": {
    "id": "Pltfj6P6LJBC"
   },
   "source": [
    "# **Importing libraries.**"
   ]
  },
  {
   "cell_type": "code",
   "execution_count": null,
   "metadata": {
    "id": "rhlc6m9hIPvj"
   },
   "outputs": [],
   "source": [
    "import pandas as pd\n",
    "import numpy as np\n",
    "import matplotlib.pyplot as plt\n",
    "%matplotlib inline\n",
    "import seaborn as sns\n",
    "\n",
    "import os\n",
    "import glob\n",
    "import random\n",
    "\n",
    "import keras\n",
    "\n",
    "from keras.models import Sequential\n",
    "from keras.layers import Dense\n",
    "from keras.datasets import mnist\n",
    "from keras.models import load_model\n",
    "from keras.wrappers.scikit_learn import KerasClassifier\n",
    "\n",
    "from sklearn.preprocessing import LabelEncoder\n",
    "from sklearn.model_selection import train_test_split\n",
    "from sklearn.model_selection import GridSearchCV\n",
    "from sklearn.metrics import classification_report\n",
    "from sklearn.metrics import confusion_matrix\n",
    "from sklearn.metrics import plot_confusion_matrix, classification_report\n",
    "\n",
    "import tensorflow as tf\n",
    "from tensorflow.keras import layers\n",
    "from tensorflow.keras import Sequential\n",
    "from tensorflow.keras.layers import Dense, Conv2D, Flatten, Dropout, MaxPool2D\n",
    "from tensorflow.keras.preprocessing.image import ImageDataGenerator, array_to_img, img_to_array, load_img\n",
    "from tensorflow.keras.callbacks import EarlyStopping\n",
    "from tensorflow.keras import optimizers\n",
    "\n",
    "import datetime\n",
    "\n",
    "import talos"
   ]
  },
  {
   "cell_type": "markdown",
   "metadata": {
    "id": "FZcmlj3OApUM"
   },
   "source": [
    "# Importing data."
   ]
  },
  {
   "cell_type": "markdown",
   "metadata": {
    "id": "bdgnVa1nEM4Y"
   },
   "source": [
    "#### Followed https://www.youtube.com/watch?v=n4mxwSAWvo8&t=364s&ab_channel=DrJuanKlopper to help import library into Google Collab."
   ]
  },
  {
   "cell_type": "code",
   "execution_count": null,
   "metadata": {
    "id": "cvtEx2MQJBeS"
   },
   "outputs": [],
   "source": [
    "#setting up bridge between collab and drive\n",
    "!pip install -U -q PyDrive\n",
    "from pydrive.auth import GoogleAuth\n",
    "from pydrive.drive import GoogleDrive\n",
    "from google.colab import auth\n",
    "from oauth2client.client import GoogleCredentials"
   ]
  },
  {
   "cell_type": "code",
   "execution_count": null,
   "metadata": {
    "id": "pLvN87c_N3cG"
   },
   "outputs": [],
   "source": [
    "auth.authenticate_user()\n",
    "gauth = GoogleAuth()\n",
    "gauth.credentials = GoogleCredentials.get_application_default()\n",
    "drive = GoogleDrive(gauth)"
   ]
  },
  {
   "cell_type": "code",
   "execution_count": null,
   "metadata": {
    "id": "OdHPtPZEiX78"
   },
   "outputs": [],
   "source": [
    "fid = drive.ListFile({'q': \"title='archive.zip'\"}).GetList()[0]['id']\n",
    "f = drive.CreateFile({'id':fid})\n",
    "f.GetContentFile('archive.zip')"
   ]
  },
  {
   "cell_type": "code",
   "execution_count": null,
   "metadata": {
    "id": "NFFI2f8qPZDn"
   },
   "outputs": [],
   "source": [
    "#unzip massive file.\n",
    "!unzip archive.zip"
   ]
  },
  {
   "cell_type": "code",
   "execution_count": null,
   "metadata": {
    "id": "chChi03hPfkd"
   },
   "outputs": [],
   "source": [
    "PATH = '/content/chest_xray'"
   ]
  },
  {
   "cell_type": "code",
   "execution_count": null,
   "metadata": {
    "colab": {
     "base_uri": "https://localhost:8080/"
    },
    "id": "JIoeZHuOPwgT",
    "outputId": "35d51e5b-d697-4542-a44e-e40eda14efcf"
   },
   "outputs": [
    {
     "data": {
      "text/plain": [
       "['val', '__MACOSX', 'train', 'chest_xray', 'test']"
      ]
     },
     "execution_count": 9,
     "metadata": {},
     "output_type": "execute_result"
    }
   ],
   "source": [
    "os.listdir(PATH)"
   ]
  },
  {
   "cell_type": "code",
   "execution_count": null,
   "metadata": {
    "id": "AWay44WXRHra"
   },
   "outputs": [],
   "source": [
    "train_dir = os.path.join(PATH, 'train')\n",
    "test_dir = os.path.join(PATH, 'test')\n",
    "val_dir = os.path.join(PATH, 'val')"
   ]
  },
  {
   "cell_type": "code",
   "execution_count": null,
   "metadata": {
    "id": "tCCR46JOVmAD"
   },
   "outputs": [],
   "source": [
    "#train_normal_dir = os.path.join(train_dir, 'NORMAL')\n",
    "#train_pneumonia_dir = os.path.join(train_dir, 'PNEUMONIA')\n",
    "\n",
    "\n",
    "#test_normal_dir = os.path.join(test_dir, 'NORMAL')\n",
    "#test_pneumonia_dir = os.path.join(test_dir, 'PNEUMONIA')"
   ]
  },
  {
   "cell_type": "markdown",
   "metadata": {
    "id": "QWI17Dw0jRs0"
   },
   "source": [
    "# **Preprocessing.**"
   ]
  },
  {
   "cell_type": "code",
   "execution_count": null,
   "metadata": {
    "id": "IXrkcISPghe3"
   },
   "outputs": [],
   "source": [
    "IMG_HEIGHT = 224\n",
    "IMG_WIDTH = 224\n",
    "batch_size = 624"
   ]
  },
  {
   "cell_type": "code",
   "execution_count": null,
   "metadata": {
    "id": "pt5G9F0GjWA4"
   },
   "outputs": [],
   "source": [
    "image_gen = ImageDataGenerator()"
   ]
  },
  {
   "cell_type": "markdown",
   "metadata": {
    "id": "n8kB34NRImZm"
   },
   "source": [
    "# **Visualizing our Loss and Accuracy Curves.**"
   ]
  },
  {
   "cell_type": "code",
   "execution_count": null,
   "metadata": {
    "id": "4T8St5ZO8gBC"
   },
   "outputs": [],
   "source": [
    "def visualize_training_results(results):\n",
    "    history = results.history\n",
    "    plt.figure()\n",
    "    plt.plot(history['val_loss'])\n",
    "    plt.plot(history['loss'])\n",
    "    plt.legend(['val_loss', 'loss'])\n",
    "    plt.title('Loss')\n",
    "    plt.xlabel('Epochs')\n",
    "    plt.ylabel('Loss')\n",
    "    plt.show()\n",
    "    \n",
    "    plt.figure()\n",
    "    plt.plot(history['val_accuracy'])\n",
    "    plt.plot(history['accuracy'])\n",
    "    plt.legend(['val_acc_accuracy', 'accuracy'])\n",
    "    plt.title('Accuracy')\n",
    "    plt.xlabel('Epochs')\n",
    "    plt.ylabel('Accuracy')\n",
    "    plt.show()\n"
   ]
  },
  {
   "cell_type": "markdown",
   "metadata": {
    "id": "o2oGW79dGZxt"
   },
   "source": [
    "# **CNN**."
   ]
  },
  {
   "cell_type": "code",
   "execution_count": null,
   "metadata": {
    "id": "mjXQDPfhSY27"
   },
   "outputs": [],
   "source": [
    "#IMG_HEIGHT = 224\n",
    "#IMG_WIDTH = 224\n",
    "#batch_size = 624"
   ]
  },
  {
   "cell_type": "code",
   "execution_count": null,
   "metadata": {
    "id": "9k3L0tonGV7H"
   },
   "outputs": [],
   "source": [
    "#train_dir = os.path.join(PATH, 'train')\n",
    "#test_dir = os.path.join(PATH, 'test')\n",
    "#val_dir = os.path.join(PATH, 'val')"
   ]
  },
  {
   "cell_type": "code",
   "execution_count": null,
   "metadata": {
    "id": "lYf_2TS7Hlqs"
   },
   "outputs": [],
   "source": [
    "image_gen = ImageDataGenerator(rescale = 1./255)"
   ]
  },
  {
   "cell_type": "code",
   "execution_count": null,
   "metadata": {
    "colab": {
     "base_uri": "https://localhost:8080/"
    },
    "id": "uP_nVBR0SJM8",
    "outputId": "d31c800c-35fa-4cdb-9597-197a767c34e3"
   },
   "outputs": [
    {
     "name": "stdout",
     "output_type": "stream",
     "text": [
      "Found 5216 images belonging to 2 classes.\n"
     ]
    }
   ],
   "source": [
    "train_data_gen = image_gen.flow_from_directory(\n",
    "    directory=train_dir,\n",
    "    shuffle=True,\n",
    "    target_size=(IMG_HEIGHT, IMG_WIDTH),\n",
    "    batch_size= 5216,\n",
    "    class_mode='binary')"
   ]
  },
  {
   "cell_type": "code",
   "execution_count": null,
   "metadata": {
    "colab": {
     "base_uri": "https://localhost:8080/"
    },
    "id": "ZxxpkJ0yI8lL",
    "outputId": "044a127b-99cf-48f3-8cbb-1204cdd5abfd"
   },
   "outputs": [
    {
     "name": "stdout",
     "output_type": "stream",
     "text": [
      "Found 624 images belonging to 2 classes.\n"
     ]
    }
   ],
   "source": [
    "test_data_gen = image_gen.flow_from_directory(\n",
    "    directory = test_dir,\n",
    "    target_size = (IMG_HEIGHT, IMG_WIDTH),\n",
    "    batch_size = batch_size,\n",
    "    class_mode='binary')"
   ]
  },
  {
   "cell_type": "code",
   "execution_count": null,
   "metadata": {
    "id": "CquRZ_AiS5CS"
   },
   "outputs": [],
   "source": [
    "cnn_train_images, cnn_train_labels = next(train_data_gen)\n",
    "cnn_test_images, cnn_test_labels = next(test_data_gen)"
   ]
  },
  {
   "cell_type": "code",
   "execution_count": null,
   "metadata": {
    "colab": {
     "base_uri": "https://localhost:8080/",
     "height": 153
    },
    "id": "GeGGSS0SgkhG",
    "outputId": "a5760930-8d5a-4f5e-9244-7074c53e9348"
   },
   "outputs": [
    {
     "data": {
      "text/plain": [
       "(5216, 224, 224, 3)"
      ]
     },
     "metadata": {},
     "output_type": "display_data"
    },
    {
     "data": {
      "text/plain": [
       "(5216,)"
      ]
     },
     "metadata": {},
     "output_type": "display_data"
    },
    {
     "data": {
      "text/plain": [
       "numpy.ndarray"
      ]
     },
     "metadata": {},
     "output_type": "display_data"
    },
    {
     "data": {
      "text/plain": [
       "numpy.ndarray"
      ]
     },
     "metadata": {},
     "output_type": "display_data"
    },
    {
     "data": {
      "text/plain": [
       "(624, 224, 224, 3)"
      ]
     },
     "metadata": {},
     "output_type": "display_data"
    },
    {
     "data": {
      "text/plain": [
       "(624,)"
      ]
     },
     "metadata": {},
     "output_type": "display_data"
    },
    {
     "data": {
      "text/plain": [
       "numpy.ndarray"
      ]
     },
     "metadata": {},
     "output_type": "display_data"
    },
    {
     "data": {
      "text/plain": [
       "numpy.ndarray"
      ]
     },
     "metadata": {},
     "output_type": "display_data"
    }
   ],
   "source": [
    "display(np.shape(cnn_train_images))\n",
    "display(np.shape(cnn_train_labels))\n",
    "display(type(cnn_train_images))\n",
    "display(type(cnn_train_labels))\n",
    "\n",
    "display(np.shape(cnn_test_images))\n",
    "display(np.shape(cnn_test_labels))\n",
    "display(type(cnn_test_images))\n",
    "display(type(cnn_test_labels))"
   ]
  },
  {
   "cell_type": "code",
   "execution_count": null,
   "metadata": {
    "id": "sAKrp_vyjFfQ"
   },
   "outputs": [],
   "source": [
    "#creating the model\n",
    "def initialize_model():\n",
    "    model = Sequential()\n",
    "    model.add(layers.Conv2D(32, (3, 3), activation=\"relu\", input_shape=(IMG_HEIGHT, IMG_WIDTH, 3), padding='same'))\n",
    "    model.add(layers.MaxPool2D(pool_size=(2, 2)))\n",
    "    model.add(layers.Conv2D(64, (3, 3), activation=\"relu\", padding='same'))\n",
    "    model.add(layers.MaxPool2D(pool_size=(2, 2)))\n",
    "    model.add(layers.Conv2D(128, (3, 3), activation=\"relu\", padding='same'))\n",
    "    model.add(layers.MaxPool2D(pool_size=(3, 3)))\n",
    "    model.add(layers.Flatten())\n",
    "    model.add(layers.Dense(120, activation='relu'))\n",
    "    model.add(layers.Dense(60, activation='relu'))\n",
    "    model.add(layers.Dropout(rate=0.2))\n",
    "    model.add(layers.Dense(1, activation='sigmoid'))\n",
    "\n",
    "    return model"
   ]
  },
  {
   "cell_type": "code",
   "execution_count": null,
   "metadata": {
    "id": "SUFaRLMWIc57"
   },
   "outputs": [],
   "source": [
    "cnn = initialize_model()"
   ]
  },
  {
   "cell_type": "code",
   "execution_count": null,
   "metadata": {
    "id": "mhEgUgVjJerX"
   },
   "outputs": [],
   "source": [
    "#compile it\n",
    "cnn.compile(loss = 'binary_crossentropy', optimizer='adam', metrics = ['accuracy'])"
   ]
  },
  {
   "cell_type": "code",
   "execution_count": null,
   "metadata": {
    "colab": {
     "base_uri": "https://localhost:8080/"
    },
    "id": "WIJYw00eNzjM",
    "outputId": "9554051c-6057-443b-fcaf-8feac7eee7e5"
   },
   "outputs": [
    {
     "name": "stdout",
     "output_type": "stream",
     "text": [
      "Model: \"sequential\"\n",
      "_________________________________________________________________\n",
      " Layer (type)                Output Shape              Param #   \n",
      "=================================================================\n",
      " conv2d (Conv2D)             (None, 224, 224, 32)      896       \n",
      "                                                                 \n",
      " max_pooling2d (MaxPooling2D  (None, 112, 112, 32)     0         \n",
      " )                                                               \n",
      "                                                                 \n",
      " conv2d_1 (Conv2D)           (None, 112, 112, 64)      18496     \n",
      "                                                                 \n",
      " max_pooling2d_1 (MaxPooling  (None, 56, 56, 64)       0         \n",
      " 2D)                                                             \n",
      "                                                                 \n",
      " conv2d_2 (Conv2D)           (None, 56, 56, 128)       73856     \n",
      "                                                                 \n",
      " max_pooling2d_2 (MaxPooling  (None, 18, 18, 128)      0         \n",
      " 2D)                                                             \n",
      "                                                                 \n",
      " flatten (Flatten)           (None, 41472)             0         \n",
      "                                                                 \n",
      " dense (Dense)               (None, 120)               4976760   \n",
      "                                                                 \n",
      " dense_1 (Dense)             (None, 60)                7260      \n",
      "                                                                 \n",
      " dropout (Dropout)           (None, 60)                0         \n",
      "                                                                 \n",
      " dense_2 (Dense)             (None, 1)                 61        \n",
      "                                                                 \n",
      "=================================================================\n",
      "Total params: 5,077,329\n",
      "Trainable params: 5,077,329\n",
      "Non-trainable params: 0\n",
      "_________________________________________________________________\n"
     ]
    }
   ],
   "source": [
    "cnn.summary()"
   ]
  },
  {
   "cell_type": "code",
   "execution_count": null,
   "metadata": {
    "colab": {
     "base_uri": "https://localhost:8080/"
    },
    "id": "JIIRQRpeSUza",
    "outputId": "e3e44a7f-c20c-46a7-ece5-e2873449a484"
   },
   "outputs": [
    {
     "name": "stdout",
     "output_type": "stream",
     "text": [
      "Epoch 1/200\n",
      "105/105 [==============================] - 152s 1s/step - loss: 0.2739 - accuracy: 0.8857 - val_loss: 0.5581 - val_accuracy: 0.7965\n",
      "Epoch 2/200\n",
      "105/105 [==============================] - 150s 1s/step - loss: 0.0973 - accuracy: 0.9643 - val_loss: 0.7141 - val_accuracy: 0.7724\n",
      "Epoch 3/200\n",
      "105/105 [==============================] - 150s 1s/step - loss: 0.0735 - accuracy: 0.9722 - val_loss: 0.9131 - val_accuracy: 0.7548\n",
      "Epoch 4/200\n",
      "105/105 [==============================] - 150s 1s/step - loss: 0.0532 - accuracy: 0.9818 - val_loss: 1.2123 - val_accuracy: 0.7596\n",
      "Epoch 5/200\n",
      "105/105 [==============================] - 150s 1s/step - loss: 0.0406 - accuracy: 0.9862 - val_loss: 1.1954 - val_accuracy: 0.7756\n",
      "Epoch 6/200\n",
      "105/105 [==============================] - 149s 1s/step - loss: 0.0384 - accuracy: 0.9862 - val_loss: 1.0694 - val_accuracy: 0.7885\n",
      "Epoch 7/200\n",
      "105/105 [==============================] - 149s 1s/step - loss: 0.0280 - accuracy: 0.9902 - val_loss: 2.3794 - val_accuracy: 0.7115\n",
      "Epoch 8/200\n",
      "105/105 [==============================] - 149s 1s/step - loss: 0.0204 - accuracy: 0.9914 - val_loss: 3.0183 - val_accuracy: 0.7035\n",
      "Epoch 9/200\n",
      "105/105 [==============================] - 149s 1s/step - loss: 0.0177 - accuracy: 0.9939 - val_loss: 1.9904 - val_accuracy: 0.7596\n",
      "Epoch 10/200\n",
      "105/105 [==============================] - 150s 1s/step - loss: 0.0128 - accuracy: 0.9960 - val_loss: 2.2325 - val_accuracy: 0.7196\n",
      "Epoch 11/200\n",
      "105/105 [==============================] - 149s 1s/step - loss: 0.0147 - accuracy: 0.9941 - val_loss: 2.8309 - val_accuracy: 0.7452\n",
      "Epoch 12/200\n",
      "105/105 [==============================] - 149s 1s/step - loss: 0.0124 - accuracy: 0.9960 - val_loss: 3.7651 - val_accuracy: 0.6923\n",
      "Epoch 13/200\n",
      "105/105 [==============================] - 149s 1s/step - loss: 0.0054 - accuracy: 0.9983 - val_loss: 3.2983 - val_accuracy: 0.7228\n",
      "Epoch 14/200\n",
      "105/105 [==============================] - 149s 1s/step - loss: 0.0089 - accuracy: 0.9969 - val_loss: 3.2928 - val_accuracy: 0.7484\n",
      "Epoch 15/200\n",
      "105/105 [==============================] - 149s 1s/step - loss: 0.0064 - accuracy: 0.9979 - val_loss: 2.4755 - val_accuracy: 0.7869\n",
      "Epoch 16/200\n",
      "105/105 [==============================] - 149s 1s/step - loss: 0.0332 - accuracy: 0.9875 - val_loss: 1.3816 - val_accuracy: 0.7452\n",
      "Epoch 17/200\n",
      "105/105 [==============================] - 148s 1s/step - loss: 0.0518 - accuracy: 0.9820 - val_loss: 1.9196 - val_accuracy: 0.7260\n",
      "Epoch 18/200\n",
      "105/105 [==============================] - 149s 1s/step - loss: 0.0161 - accuracy: 0.9941 - val_loss: 2.2717 - val_accuracy: 0.7612\n",
      "Epoch 19/200\n",
      "105/105 [==============================] - 149s 1s/step - loss: 0.0067 - accuracy: 0.9981 - val_loss: 2.9977 - val_accuracy: 0.7500\n",
      "Epoch 20/200\n",
      "105/105 [==============================] - 148s 1s/step - loss: 0.0376 - accuracy: 0.9889 - val_loss: 2.5087 - val_accuracy: 0.7564\n",
      "Epoch 21/200\n",
      "105/105 [==============================] - 148s 1s/step - loss: 0.0048 - accuracy: 0.9988 - val_loss: 4.0679 - val_accuracy: 0.7212\n",
      "Epoch 22/200\n",
      "105/105 [==============================] - 148s 1s/step - loss: 0.0028 - accuracy: 0.9990 - val_loss: 3.0384 - val_accuracy: 0.7500\n",
      "Epoch 23/200\n",
      "105/105 [==============================] - 148s 1s/step - loss: 0.0057 - accuracy: 0.9981 - val_loss: 3.5811 - val_accuracy: 0.7420\n",
      "Epoch 24/200\n",
      "105/105 [==============================] - 148s 1s/step - loss: 0.0018 - accuracy: 0.9994 - val_loss: 4.1989 - val_accuracy: 0.7260\n",
      "Epoch 25/200\n",
      "105/105 [==============================] - 148s 1s/step - loss: 0.0012 - accuracy: 0.9994 - val_loss: 4.2264 - val_accuracy: 0.7276\n",
      "Epoch 26/200\n",
      "105/105 [==============================] - 148s 1s/step - loss: 7.0721e-04 - accuracy: 0.9998 - val_loss: 3.4718 - val_accuracy: 0.7612\n",
      "Epoch 27/200\n",
      "105/105 [==============================] - 149s 1s/step - loss: 1.8421e-04 - accuracy: 1.0000 - val_loss: 4.2907 - val_accuracy: 0.7404\n",
      "Epoch 28/200\n",
      "105/105 [==============================] - 151s 1s/step - loss: 4.1521e-05 - accuracy: 1.0000 - val_loss: 4.3540 - val_accuracy: 0.7436\n",
      "Epoch 29/200\n",
      "105/105 [==============================] - 150s 1s/step - loss: 3.0324e-05 - accuracy: 1.0000 - val_loss: 4.4822 - val_accuracy: 0.7436\n",
      "Epoch 30/200\n",
      "105/105 [==============================] - 149s 1s/step - loss: 1.8374e-05 - accuracy: 1.0000 - val_loss: 4.6427 - val_accuracy: 0.7420\n",
      "Epoch 31/200\n",
      "105/105 [==============================] - 149s 1s/step - loss: 2.8097e-05 - accuracy: 1.0000 - val_loss: 4.9445 - val_accuracy: 0.7308\n",
      "Epoch 32/200\n",
      "105/105 [==============================] - 150s 1s/step - loss: 2.5620e-05 - accuracy: 1.0000 - val_loss: 4.7803 - val_accuracy: 0.7436\n",
      "Epoch 33/200\n",
      "105/105 [==============================] - 149s 1s/step - loss: 9.7432e-06 - accuracy: 1.0000 - val_loss: 4.8776 - val_accuracy: 0.7436\n",
      "Epoch 34/200\n",
      "105/105 [==============================] - 150s 1s/step - loss: 1.0146e-05 - accuracy: 1.0000 - val_loss: 4.9820 - val_accuracy: 0.7420\n",
      "Epoch 35/200\n",
      "105/105 [==============================] - 149s 1s/step - loss: 2.3061e-05 - accuracy: 1.0000 - val_loss: 5.1505 - val_accuracy: 0.7388\n",
      "Epoch 36/200\n",
      "105/105 [==============================] - 150s 1s/step - loss: 1.2394e-05 - accuracy: 1.0000 - val_loss: 5.0978 - val_accuracy: 0.7420\n",
      "Epoch 37/200\n",
      "105/105 [==============================] - 149s 1s/step - loss: 1.1637e-05 - accuracy: 1.0000 - val_loss: 5.2059 - val_accuracy: 0.7404\n",
      "Epoch 38/200\n",
      "105/105 [==============================] - 149s 1s/step - loss: 6.7702e-06 - accuracy: 1.0000 - val_loss: 5.3040 - val_accuracy: 0.7388\n",
      "Epoch 39/200\n",
      "105/105 [==============================] - 148s 1s/step - loss: 5.4574e-06 - accuracy: 1.0000 - val_loss: 5.3157 - val_accuracy: 0.7388\n",
      "Epoch 40/200\n",
      "105/105 [==============================] - 149s 1s/step - loss: 5.1270e-06 - accuracy: 1.0000 - val_loss: 5.3443 - val_accuracy: 0.7404\n",
      "Epoch 41/200\n",
      "105/105 [==============================] - 149s 1s/step - loss: 1.3370e-05 - accuracy: 1.0000 - val_loss: 5.4176 - val_accuracy: 0.7404\n",
      "Epoch 42/200\n",
      "105/105 [==============================] - 150s 1s/step - loss: 1.5461e-05 - accuracy: 1.0000 - val_loss: 5.0008 - val_accuracy: 0.7516\n",
      "Epoch 43/200\n",
      "105/105 [==============================] - 149s 1s/step - loss: 9.1758e-06 - accuracy: 1.0000 - val_loss: 5.4371 - val_accuracy: 0.7436\n",
      "Epoch 44/200\n",
      "105/105 [==============================] - 149s 1s/step - loss: 2.9868e-06 - accuracy: 1.0000 - val_loss: 5.4639 - val_accuracy: 0.7436\n",
      "Epoch 45/200\n",
      "105/105 [==============================] - 149s 1s/step - loss: 2.7496e-06 - accuracy: 1.0000 - val_loss: 5.5284 - val_accuracy: 0.7436\n",
      "Epoch 46/200\n",
      "105/105 [==============================] - 149s 1s/step - loss: 4.4877e-06 - accuracy: 1.0000 - val_loss: 5.5157 - val_accuracy: 0.7452\n",
      "Epoch 47/200\n",
      "105/105 [==============================] - 149s 1s/step - loss: 2.6702e-06 - accuracy: 1.0000 - val_loss: 5.5708 - val_accuracy: 0.7452\n",
      "Epoch 48/200\n",
      "105/105 [==============================] - 149s 1s/step - loss: 2.5098e-06 - accuracy: 1.0000 - val_loss: 5.5748 - val_accuracy: 0.7452\n",
      "Epoch 49/200\n",
      "105/105 [==============================] - 149s 1s/step - loss: 2.9372e-06 - accuracy: 1.0000 - val_loss: 5.6482 - val_accuracy: 0.7452\n",
      "Epoch 50/200\n",
      "105/105 [==============================] - 149s 1s/step - loss: 2.9501e-06 - accuracy: 1.0000 - val_loss: 5.7191 - val_accuracy: 0.7452\n",
      "Epoch 51/200\n",
      "105/105 [==============================] - 149s 1s/step - loss: 2.4639e-06 - accuracy: 1.0000 - val_loss: 5.7673 - val_accuracy: 0.7452\n",
      "Epoch 52/200\n",
      "105/105 [==============================] - 149s 1s/step - loss: 1.1073e-06 - accuracy: 1.0000 - val_loss: 5.8106 - val_accuracy: 0.7452\n",
      "Epoch 53/200\n",
      "105/105 [==============================] - 150s 1s/step - loss: 1.3916e-06 - accuracy: 1.0000 - val_loss: 5.8602 - val_accuracy: 0.7452\n",
      "Epoch 54/200\n",
      "105/105 [==============================] - 150s 1s/step - loss: 2.6186e-06 - accuracy: 1.0000 - val_loss: 5.9088 - val_accuracy: 0.7436\n",
      "Epoch 55/200\n",
      "105/105 [==============================] - 150s 1s/step - loss: 1.3177e-06 - accuracy: 1.0000 - val_loss: 5.9002 - val_accuracy: 0.7452\n",
      "Epoch 56/200\n",
      "105/105 [==============================] - 149s 1s/step - loss: 2.3180e-06 - accuracy: 1.0000 - val_loss: 6.0490 - val_accuracy: 0.7420\n",
      "Epoch 57/200\n",
      "105/105 [==============================] - 150s 1s/step - loss: 7.1948e-07 - accuracy: 1.0000 - val_loss: 6.0697 - val_accuracy: 0.7420\n",
      "Epoch 58/200\n",
      "105/105 [==============================] - 152s 1s/step - loss: 2.2903e-06 - accuracy: 1.0000 - val_loss: 6.0076 - val_accuracy: 0.7436\n",
      "Epoch 59/200\n",
      "105/105 [==============================] - 150s 1s/step - loss: 9.6435e-07 - accuracy: 1.0000 - val_loss: 6.0532 - val_accuracy: 0.7436\n",
      "Epoch 60/200\n",
      "105/105 [==============================] - 149s 1s/step - loss: 9.7910e-07 - accuracy: 1.0000 - val_loss: 6.1017 - val_accuracy: 0.7436\n",
      "Epoch 61/200\n",
      "105/105 [==============================] - 149s 1s/step - loss: 1.1046e-06 - accuracy: 1.0000 - val_loss: 6.1671 - val_accuracy: 0.7436\n",
      "Epoch 62/200\n",
      "105/105 [==============================] - 150s 1s/step - loss: 3.4027e-06 - accuracy: 1.0000 - val_loss: 6.2022 - val_accuracy: 0.7420\n",
      "Epoch 63/200\n",
      "105/105 [==============================] - 150s 1s/step - loss: 1.6527e-06 - accuracy: 1.0000 - val_loss: 6.2879 - val_accuracy: 0.7420\n",
      "Epoch 64/200\n",
      "105/105 [==============================] - 149s 1s/step - loss: 8.0701e-07 - accuracy: 1.0000 - val_loss: 6.2751 - val_accuracy: 0.7420\n",
      "Epoch 65/200\n",
      "105/105 [==============================] - 150s 1s/step - loss: 7.5254e-07 - accuracy: 1.0000 - val_loss: 6.2609 - val_accuracy: 0.7436\n",
      "Epoch 66/200\n",
      "105/105 [==============================] - 152s 1s/step - loss: 1.6027e-06 - accuracy: 1.0000 - val_loss: 6.1651 - val_accuracy: 0.7452\n",
      "Epoch 67/200\n",
      "105/105 [==============================] - 151s 1s/step - loss: 8.3426e-07 - accuracy: 1.0000 - val_loss: 6.3108 - val_accuracy: 0.7420\n",
      "Epoch 68/200\n",
      "105/105 [==============================] - 152s 1s/step - loss: 4.2253e-07 - accuracy: 1.0000 - val_loss: 6.3567 - val_accuracy: 0.7420\n",
      "Epoch 69/200\n",
      "105/105 [==============================] - 151s 1s/step - loss: 3.7801e-07 - accuracy: 1.0000 - val_loss: 6.4216 - val_accuracy: 0.7420\n",
      "Epoch 70/200\n",
      "105/105 [==============================] - 153s 1s/step - loss: 8.3289e-07 - accuracy: 1.0000 - val_loss: 6.4982 - val_accuracy: 0.7420\n",
      "Epoch 71/200\n",
      "105/105 [==============================] - 153s 1s/step - loss: 8.7111e-07 - accuracy: 1.0000 - val_loss: 6.5645 - val_accuracy: 0.7404\n",
      "Epoch 72/200\n",
      "105/105 [==============================] - 151s 1s/step - loss: 8.1147e-07 - accuracy: 1.0000 - val_loss: 6.3344 - val_accuracy: 0.7468\n",
      "Epoch 73/200\n",
      "105/105 [==============================] - 151s 1s/step - loss: 1.3471e-06 - accuracy: 1.0000 - val_loss: 6.6521 - val_accuracy: 0.7372\n",
      "Epoch 74/200\n",
      "105/105 [==============================] - 150s 1s/step - loss: 2.7610e-07 - accuracy: 1.0000 - val_loss: 6.6611 - val_accuracy: 0.7372\n",
      "Epoch 75/200\n",
      "105/105 [==============================] - 150s 1s/step - loss: 4.8704e-07 - accuracy: 1.0000 - val_loss: 6.6223 - val_accuracy: 0.7388\n",
      "Epoch 76/200\n",
      "105/105 [==============================] - 150s 1s/step - loss: 7.2201e-07 - accuracy: 1.0000 - val_loss: 6.8344 - val_accuracy: 0.7356\n",
      "Epoch 77/200\n",
      "105/105 [==============================] - 150s 1s/step - loss: 1.1615e-06 - accuracy: 1.0000 - val_loss: 6.6011 - val_accuracy: 0.7452\n",
      "Epoch 78/200\n",
      "105/105 [==============================] - 150s 1s/step - loss: 3.6849e-07 - accuracy: 1.0000 - val_loss: 6.7215 - val_accuracy: 0.7420\n",
      "Epoch 79/200\n",
      "105/105 [==============================] - 150s 1s/step - loss: 1.9687e-07 - accuracy: 1.0000 - val_loss: 6.8005 - val_accuracy: 0.7388\n",
      "Epoch 80/200\n",
      "105/105 [==============================] - 150s 1s/step - loss: 5.0123e-07 - accuracy: 1.0000 - val_loss: 7.0322 - val_accuracy: 0.7356\n",
      "Epoch 81/200\n",
      "105/105 [==============================] - 151s 1s/step - loss: 2.7562e-07 - accuracy: 1.0000 - val_loss: 6.9547 - val_accuracy: 0.7388\n",
      "Epoch 82/200\n",
      "105/105 [==============================] - 150s 1s/step - loss: 8.3106e-07 - accuracy: 1.0000 - val_loss: 7.2672 - val_accuracy: 0.7308\n",
      "Epoch 83/200\n",
      "105/105 [==============================] - 150s 1s/step - loss: 9.2941e-07 - accuracy: 1.0000 - val_loss: 6.6219 - val_accuracy: 0.7436\n",
      "Epoch 84/200\n",
      "105/105 [==============================] - 151s 1s/step - loss: 5.9329e-07 - accuracy: 1.0000 - val_loss: 6.8789 - val_accuracy: 0.7436\n",
      "Epoch 85/200\n",
      "105/105 [==============================] - 150s 1s/step - loss: 1.9023e-07 - accuracy: 1.0000 - val_loss: 6.9196 - val_accuracy: 0.7436\n",
      "Epoch 86/200\n",
      "105/105 [==============================] - 150s 1s/step - loss: 1.2207e-07 - accuracy: 1.0000 - val_loss: 6.9307 - val_accuracy: 0.7436\n",
      "Epoch 87/200\n",
      "105/105 [==============================] - 150s 1s/step - loss: 2.2739e-07 - accuracy: 1.0000 - val_loss: 7.0317 - val_accuracy: 0.7404\n",
      "Epoch 88/200\n",
      "105/105 [==============================] - 150s 1s/step - loss: 1.8194e-07 - accuracy: 1.0000 - val_loss: 7.0864 - val_accuracy: 0.7404\n",
      "Epoch 89/200\n",
      "105/105 [==============================] - 150s 1s/step - loss: 1.5948e-07 - accuracy: 1.0000 - val_loss: 7.0926 - val_accuracy: 0.7404\n",
      "Epoch 90/200\n",
      "105/105 [==============================] - 149s 1s/step - loss: 2.0636e-07 - accuracy: 1.0000 - val_loss: 7.2279 - val_accuracy: 0.7388\n",
      "Epoch 91/200\n",
      "105/105 [==============================] - 150s 1s/step - loss: 1.0491e-07 - accuracy: 1.0000 - val_loss: 7.2193 - val_accuracy: 0.7404\n",
      "Epoch 92/200\n",
      "105/105 [==============================] - 150s 1s/step - loss: 1.7637e-07 - accuracy: 1.0000 - val_loss: 7.2177 - val_accuracy: 0.7404\n",
      "Epoch 93/200\n",
      "105/105 [==============================] - 149s 1s/step - loss: 1.6540e-07 - accuracy: 1.0000 - val_loss: 7.2012 - val_accuracy: 0.7436\n",
      "Epoch 94/200\n",
      "105/105 [==============================] - 151s 1s/step - loss: 2.6319e-07 - accuracy: 1.0000 - val_loss: 7.2818 - val_accuracy: 0.7404\n",
      "Epoch 95/200\n",
      "105/105 [==============================] - 153s 1s/step - loss: 8.5142e-08 - accuracy: 1.0000 - val_loss: 7.2666 - val_accuracy: 0.7436\n",
      "Epoch 96/200\n",
      "105/105 [==============================] - 150s 1s/step - loss: 3.2227e-07 - accuracy: 1.0000 - val_loss: 7.5847 - val_accuracy: 0.7372\n",
      "Epoch 97/200\n",
      "105/105 [==============================] - 150s 1s/step - loss: 1.0154e-07 - accuracy: 1.0000 - val_loss: 7.5171 - val_accuracy: 0.7388\n",
      "Epoch 98/200\n",
      "105/105 [==============================] - 150s 1s/step - loss: 1.1000e-07 - accuracy: 1.0000 - val_loss: 7.5133 - val_accuracy: 0.7388\n",
      "Epoch 99/200\n",
      "105/105 [==============================] - 151s 1s/step - loss: 9.3616e-08 - accuracy: 1.0000 - val_loss: 7.3789 - val_accuracy: 0.7436\n",
      "Epoch 100/200\n",
      "105/105 [==============================] - 150s 1s/step - loss: 8.8144e-08 - accuracy: 1.0000 - val_loss: 7.4954 - val_accuracy: 0.7404\n",
      "Epoch 101/200\n",
      "105/105 [==============================] - 149s 1s/step - loss: 5.2976e-08 - accuracy: 1.0000 - val_loss: 7.4938 - val_accuracy: 0.7420\n",
      "Epoch 102/200\n",
      "105/105 [==============================] - 150s 1s/step - loss: 1.3147e-07 - accuracy: 1.0000 - val_loss: 7.4713 - val_accuracy: 0.7436\n",
      "Epoch 103/200\n",
      "105/105 [==============================] - 150s 1s/step - loss: 1.8751e-07 - accuracy: 1.0000 - val_loss: 7.4031 - val_accuracy: 0.7436\n",
      "Epoch 104/200\n",
      "105/105 [==============================] - 149s 1s/step - loss: 1.7580e-07 - accuracy: 1.0000 - val_loss: 7.5345 - val_accuracy: 0.7388\n",
      "Epoch 105/200\n",
      "105/105 [==============================] - 150s 1s/step - loss: 2.1305e-07 - accuracy: 1.0000 - val_loss: 7.9664 - val_accuracy: 0.7356\n",
      "Epoch 106/200\n",
      "105/105 [==============================] - 150s 1s/step - loss: 5.5319e-08 - accuracy: 1.0000 - val_loss: 7.8724 - val_accuracy: 0.7372\n",
      "Epoch 107/200\n",
      "105/105 [==============================] - 150s 1s/step - loss: 9.3815e-08 - accuracy: 1.0000 - val_loss: 7.6183 - val_accuracy: 0.7404\n",
      "Epoch 108/200\n",
      "105/105 [==============================] - 152s 1s/step - loss: 3.6761e-07 - accuracy: 1.0000 - val_loss: 8.1688 - val_accuracy: 0.7356\n",
      "Epoch 109/200\n",
      "105/105 [==============================] - 149s 1s/step - loss: 9.5858e-08 - accuracy: 1.0000 - val_loss: 8.1314 - val_accuracy: 0.7356\n",
      "Epoch 110/200\n",
      "105/105 [==============================] - 150s 1s/step - loss: 6.9644e-08 - accuracy: 1.0000 - val_loss: 7.8935 - val_accuracy: 0.7372\n",
      "Epoch 111/200\n",
      "105/105 [==============================] - 150s 1s/step - loss: 2.9192e-08 - accuracy: 1.0000 - val_loss: 7.8550 - val_accuracy: 0.7404\n",
      "Epoch 112/200\n",
      "105/105 [==============================] - 151s 1s/step - loss: 3.4799e-08 - accuracy: 1.0000 - val_loss: 7.8996 - val_accuracy: 0.7404\n",
      "Epoch 113/200\n",
      "105/105 [==============================] - 150s 1s/step - loss: 5.4275e-08 - accuracy: 1.0000 - val_loss: 8.0658 - val_accuracy: 0.7356\n",
      "Epoch 114/200\n",
      "105/105 [==============================] - 149s 1s/step - loss: 1.3380e-08 - accuracy: 1.0000 - val_loss: 8.0018 - val_accuracy: 0.7356\n",
      "Epoch 115/200\n",
      "105/105 [==============================] - 150s 1s/step - loss: 1.0113e-07 - accuracy: 1.0000 - val_loss: 8.1426 - val_accuracy: 0.7356\n",
      "Epoch 116/200\n",
      "105/105 [==============================] - 150s 1s/step - loss: 2.6939e-08 - accuracy: 1.0000 - val_loss: 8.1080 - val_accuracy: 0.7356\n",
      "Epoch 117/200\n",
      "105/105 [==============================] - 149s 1s/step - loss: 5.4612e-08 - accuracy: 1.0000 - val_loss: 7.8275 - val_accuracy: 0.7436\n",
      "Epoch 118/200\n",
      "105/105 [==============================] - 150s 1s/step - loss: 1.0332e-07 - accuracy: 1.0000 - val_loss: 8.2091 - val_accuracy: 0.7356\n",
      "Epoch 119/200\n",
      "105/105 [==============================] - 149s 1s/step - loss: 5.5059e-08 - accuracy: 1.0000 - val_loss: 8.0072 - val_accuracy: 0.7436\n",
      "Epoch 120/200\n",
      "105/105 [==============================] - 150s 1s/step - loss: 9.0389e-09 - accuracy: 1.0000 - val_loss: 8.0455 - val_accuracy: 0.7436\n",
      "Epoch 121/200\n",
      "105/105 [==============================] - 150s 1s/step - loss: 1.9109e-08 - accuracy: 1.0000 - val_loss: 8.0154 - val_accuracy: 0.7452\n",
      "Epoch 122/200\n",
      "105/105 [==============================] - 149s 1s/step - loss: 1.9239e-08 - accuracy: 1.0000 - val_loss: 8.1414 - val_accuracy: 0.7436\n",
      "Epoch 123/200\n",
      "105/105 [==============================] - 150s 1s/step - loss: 1.3049e-08 - accuracy: 1.0000 - val_loss: 8.2176 - val_accuracy: 0.7388\n",
      "Epoch 124/200\n",
      "105/105 [==============================] - 150s 1s/step - loss: 7.1141e-08 - accuracy: 1.0000 - val_loss: 8.3441 - val_accuracy: 0.7356\n",
      "Epoch 125/200\n",
      "105/105 [==============================] - 149s 1s/step - loss: 5.6332e-07 - accuracy: 1.0000 - val_loss: 7.9993 - val_accuracy: 0.7404\n",
      "Epoch 126/200\n",
      "105/105 [==============================] - 148s 1s/step - loss: 0.0527 - accuracy: 0.9835 - val_loss: 2.0482 - val_accuracy: 0.7532\n",
      "Epoch 127/200\n",
      "105/105 [==============================] - 147s 1s/step - loss: 0.0327 - accuracy: 0.9900 - val_loss: 2.0437 - val_accuracy: 0.7516\n",
      "Epoch 128/200\n",
      "105/105 [==============================] - 148s 1s/step - loss: 0.0106 - accuracy: 0.9969 - val_loss: 5.0105 - val_accuracy: 0.7067\n",
      "Epoch 129/200\n",
      "105/105 [==============================] - 148s 1s/step - loss: 0.0088 - accuracy: 0.9967 - val_loss: 4.0233 - val_accuracy: 0.7404\n",
      "Epoch 130/200\n",
      "105/105 [==============================] - 148s 1s/step - loss: 0.0047 - accuracy: 0.9979 - val_loss: 3.9430 - val_accuracy: 0.7452\n",
      "Epoch 131/200\n",
      "105/105 [==============================] - 149s 1s/step - loss: 0.0082 - accuracy: 0.9979 - val_loss: 3.2193 - val_accuracy: 0.7548\n",
      "Epoch 132/200\n",
      "105/105 [==============================] - 147s 1s/step - loss: 0.0074 - accuracy: 0.9975 - val_loss: 5.2686 - val_accuracy: 0.7212\n",
      "Epoch 133/200\n",
      "105/105 [==============================] - 148s 1s/step - loss: 0.0020 - accuracy: 0.9990 - val_loss: 5.2716 - val_accuracy: 0.7260\n",
      "Epoch 134/200\n",
      "105/105 [==============================] - 147s 1s/step - loss: 7.3152e-05 - accuracy: 1.0000 - val_loss: 5.5864 - val_accuracy: 0.7260\n",
      "Epoch 135/200\n",
      "105/105 [==============================] - 147s 1s/step - loss: 2.2327e-05 - accuracy: 1.0000 - val_loss: 5.9453 - val_accuracy: 0.7212\n",
      "Epoch 136/200\n",
      "105/105 [==============================] - 148s 1s/step - loss: 1.6541e-05 - accuracy: 1.0000 - val_loss: 6.0915 - val_accuracy: 0.7260\n",
      "Epoch 137/200\n",
      "105/105 [==============================] - 147s 1s/step - loss: 1.6355e-05 - accuracy: 1.0000 - val_loss: 6.1864 - val_accuracy: 0.7292\n",
      "Epoch 138/200\n",
      "105/105 [==============================] - 148s 1s/step - loss: 8.1246e-06 - accuracy: 1.0000 - val_loss: 6.3301 - val_accuracy: 0.7292\n",
      "Epoch 139/200\n",
      "105/105 [==============================] - 148s 1s/step - loss: 1.0224e-05 - accuracy: 1.0000 - val_loss: 6.6133 - val_accuracy: 0.7244\n",
      "Epoch 140/200\n",
      "105/105 [==============================] - 147s 1s/step - loss: 7.0509e-06 - accuracy: 1.0000 - val_loss: 6.4712 - val_accuracy: 0.7292\n",
      "Epoch 141/200\n",
      "105/105 [==============================] - 148s 1s/step - loss: 6.9122e-06 - accuracy: 1.0000 - val_loss: 6.6769 - val_accuracy: 0.7244\n",
      "Epoch 142/200\n",
      "105/105 [==============================] - 148s 1s/step - loss: 5.8807e-06 - accuracy: 1.0000 - val_loss: 6.7295 - val_accuracy: 0.7292\n",
      "Epoch 143/200\n",
      "105/105 [==============================] - 147s 1s/step - loss: 1.8959e-06 - accuracy: 1.0000 - val_loss: 6.8083 - val_accuracy: 0.7292\n",
      "Epoch 144/200\n",
      "105/105 [==============================] - 148s 1s/step - loss: 2.8322e-06 - accuracy: 1.0000 - val_loss: 6.8746 - val_accuracy: 0.7292\n",
      "Epoch 145/200\n",
      "105/105 [==============================] - 147s 1s/step - loss: 1.8695e-06 - accuracy: 1.0000 - val_loss: 6.9084 - val_accuracy: 0.7292\n",
      "Epoch 146/200\n",
      "105/105 [==============================] - 148s 1s/step - loss: 3.8549e-06 - accuracy: 1.0000 - val_loss: 6.9651 - val_accuracy: 0.7276\n",
      "Epoch 147/200\n",
      "105/105 [==============================] - 148s 1s/step - loss: 3.8574e-06 - accuracy: 1.0000 - val_loss: 7.2084 - val_accuracy: 0.7244\n",
      "Epoch 148/200\n",
      "105/105 [==============================] - 147s 1s/step - loss: 1.4275e-06 - accuracy: 1.0000 - val_loss: 7.2391 - val_accuracy: 0.7228\n",
      "Epoch 149/200\n",
      "105/105 [==============================] - 148s 1s/step - loss: 1.5493e-06 - accuracy: 1.0000 - val_loss: 7.2477 - val_accuracy: 0.7260\n",
      "Epoch 150/200\n",
      "105/105 [==============================] - 147s 1s/step - loss: 1.2784e-06 - accuracy: 1.0000 - val_loss: 7.1847 - val_accuracy: 0.7276\n",
      "Epoch 151/200\n",
      "105/105 [==============================] - 147s 1s/step - loss: 1.6899e-06 - accuracy: 1.0000 - val_loss: 7.2569 - val_accuracy: 0.7292\n",
      "Epoch 152/200\n",
      "105/105 [==============================] - 147s 1s/step - loss: 3.1644e-06 - accuracy: 1.0000 - val_loss: 7.3230 - val_accuracy: 0.7276\n",
      "Epoch 153/200\n",
      "105/105 [==============================] - 147s 1s/step - loss: 1.5591e-06 - accuracy: 1.0000 - val_loss: 7.2262 - val_accuracy: 0.7308\n",
      "Epoch 154/200\n",
      "105/105 [==============================] - 148s 1s/step - loss: 5.9382e-07 - accuracy: 1.0000 - val_loss: 7.2693 - val_accuracy: 0.7308\n",
      "Epoch 155/200\n",
      "105/105 [==============================] - 147s 1s/step - loss: 7.1926e-07 - accuracy: 1.0000 - val_loss: 7.2859 - val_accuracy: 0.7324\n",
      "Epoch 156/200\n",
      "105/105 [==============================] - 147s 1s/step - loss: 9.6283e-07 - accuracy: 1.0000 - val_loss: 7.3632 - val_accuracy: 0.7308\n",
      "Epoch 157/200\n",
      "105/105 [==============================] - 147s 1s/step - loss: 1.3971e-06 - accuracy: 1.0000 - val_loss: 7.3271 - val_accuracy: 0.7324\n",
      "Epoch 158/200\n",
      "105/105 [==============================] - 147s 1s/step - loss: 6.9909e-07 - accuracy: 1.0000 - val_loss: 7.3696 - val_accuracy: 0.7308\n",
      "Epoch 159/200\n",
      "105/105 [==============================] - 148s 1s/step - loss: 1.0125e-06 - accuracy: 1.0000 - val_loss: 7.4153 - val_accuracy: 0.7308\n",
      "Epoch 160/200\n",
      "105/105 [==============================] - 147s 1s/step - loss: 3.3514e-07 - accuracy: 1.0000 - val_loss: 7.4770 - val_accuracy: 0.7308\n",
      "Epoch 161/200\n",
      "105/105 [==============================] - 147s 1s/step - loss: 5.9611e-07 - accuracy: 1.0000 - val_loss: 7.4912 - val_accuracy: 0.7308\n",
      "Epoch 162/200\n",
      "105/105 [==============================] - 148s 1s/step - loss: 4.0761e-06 - accuracy: 1.0000 - val_loss: 8.1168 - val_accuracy: 0.7212\n",
      "Epoch 163/200\n",
      "105/105 [==============================] - 147s 1s/step - loss: 9.8259e-07 - accuracy: 1.0000 - val_loss: 8.0538 - val_accuracy: 0.7212\n",
      "Epoch 164/200\n",
      "105/105 [==============================] - 148s 1s/step - loss: 6.5875e-07 - accuracy: 1.0000 - val_loss: 7.9504 - val_accuracy: 0.7228\n",
      "Epoch 165/200\n",
      "105/105 [==============================] - 148s 1s/step - loss: 8.4391e-07 - accuracy: 1.0000 - val_loss: 7.8004 - val_accuracy: 0.7276\n",
      "Epoch 166/200\n",
      "105/105 [==============================] - 147s 1s/step - loss: 4.0463e-07 - accuracy: 1.0000 - val_loss: 7.8102 - val_accuracy: 0.7276\n",
      "Epoch 167/200\n",
      "105/105 [==============================] - 148s 1s/step - loss: 6.6546e-07 - accuracy: 1.0000 - val_loss: 7.8382 - val_accuracy: 0.7276\n",
      "Epoch 168/200\n",
      "105/105 [==============================] - 147s 1s/step - loss: 1.1261e-06 - accuracy: 1.0000 - val_loss: 7.7543 - val_accuracy: 0.7292\n",
      "Epoch 169/200\n",
      "105/105 [==============================] - 148s 1s/step - loss: 3.0983e-07 - accuracy: 1.0000 - val_loss: 7.8289 - val_accuracy: 0.7292\n",
      "Epoch 170/200\n",
      "105/105 [==============================] - 148s 1s/step - loss: 1.8133e-07 - accuracy: 1.0000 - val_loss: 7.8329 - val_accuracy: 0.7292\n",
      "Epoch 171/200\n",
      "105/105 [==============================] - 147s 1s/step - loss: 2.2162e-07 - accuracy: 1.0000 - val_loss: 7.8369 - val_accuracy: 0.7292\n",
      "Epoch 172/200\n",
      "105/105 [==============================] - 148s 1s/step - loss: 2.0943e-07 - accuracy: 1.0000 - val_loss: 7.8740 - val_accuracy: 0.7292\n",
      "Epoch 173/200\n",
      "105/105 [==============================] - 147s 1s/step - loss: 1.8652e-07 - accuracy: 1.0000 - val_loss: 7.8534 - val_accuracy: 0.7292\n",
      "Epoch 174/200\n",
      "105/105 [==============================] - 148s 1s/step - loss: 3.5219e-07 - accuracy: 1.0000 - val_loss: 7.9464 - val_accuracy: 0.7292\n",
      "Epoch 175/200\n",
      "105/105 [==============================] - 148s 1s/step - loss: 2.9207e-07 - accuracy: 1.0000 - val_loss: 8.1682 - val_accuracy: 0.7292\n",
      "Epoch 176/200\n",
      "105/105 [==============================] - 147s 1s/step - loss: 2.0446e-07 - accuracy: 1.0000 - val_loss: 8.2445 - val_accuracy: 0.7292\n",
      "Epoch 177/200\n",
      "105/105 [==============================] - 148s 1s/step - loss: 2.7692e-07 - accuracy: 1.0000 - val_loss: 8.1730 - val_accuracy: 0.7292\n",
      "Epoch 178/200\n",
      "105/105 [==============================] - 147s 1s/step - loss: 4.1355e-07 - accuracy: 1.0000 - val_loss: 8.1347 - val_accuracy: 0.7324\n",
      "Epoch 179/200\n",
      "105/105 [==============================] - 148s 1s/step - loss: 1.7754e-07 - accuracy: 1.0000 - val_loss: 8.1792 - val_accuracy: 0.7308\n",
      "Epoch 180/200\n",
      "105/105 [==============================] - 147s 1s/step - loss: 1.8064e-07 - accuracy: 1.0000 - val_loss: 8.2940 - val_accuracy: 0.7292\n",
      "Epoch 181/200\n",
      "105/105 [==============================] - 147s 1s/step - loss: 1.5887e-07 - accuracy: 1.0000 - val_loss: 8.3330 - val_accuracy: 0.7292\n",
      "Epoch 182/200\n",
      "105/105 [==============================] - 148s 1s/step - loss: 1.4979e-06 - accuracy: 1.0000 - val_loss: 8.8166 - val_accuracy: 0.7196\n",
      "Epoch 183/200\n",
      "105/105 [==============================] - 148s 1s/step - loss: 2.6581e-07 - accuracy: 1.0000 - val_loss: 8.7094 - val_accuracy: 0.7244\n",
      "Epoch 184/200\n",
      "105/105 [==============================] - 147s 1s/step - loss: 1.5342e-07 - accuracy: 1.0000 - val_loss: 8.6479 - val_accuracy: 0.7276\n",
      "Epoch 185/200\n",
      "105/105 [==============================] - 148s 1s/step - loss: 8.7964e-07 - accuracy: 1.0000 - val_loss: 8.5160 - val_accuracy: 0.7308\n",
      "Epoch 186/200\n",
      "105/105 [==============================] - 146s 1s/step - loss: 4.9265e-08 - accuracy: 1.0000 - val_loss: 8.2466 - val_accuracy: 0.7356\n",
      "Epoch 187/200\n",
      "105/105 [==============================] - 147s 1s/step - loss: 1.7536e-07 - accuracy: 1.0000 - val_loss: 8.3358 - val_accuracy: 0.7340\n",
      "Epoch 188/200\n",
      "105/105 [==============================] - 148s 1s/step - loss: 4.2158e-08 - accuracy: 1.0000 - val_loss: 8.3579 - val_accuracy: 0.7340\n",
      "Epoch 189/200\n",
      "105/105 [==============================] - 146s 1s/step - loss: 1.2727e-07 - accuracy: 1.0000 - val_loss: 8.3852 - val_accuracy: 0.7340\n",
      "Epoch 190/200\n",
      "105/105 [==============================] - 148s 1s/step - loss: 6.3929e-08 - accuracy: 1.0000 - val_loss: 8.5493 - val_accuracy: 0.7324\n",
      "Epoch 191/200\n",
      "105/105 [==============================] - 147s 1s/step - loss: 1.4266e-07 - accuracy: 1.0000 - val_loss: 8.6101 - val_accuracy: 0.7324\n",
      "Epoch 192/200\n",
      "105/105 [==============================] - 147s 1s/step - loss: 2.2576e-07 - accuracy: 1.0000 - val_loss: 8.3409 - val_accuracy: 0.7340\n",
      "Epoch 193/200\n",
      "105/105 [==============================] - 147s 1s/step - loss: 3.0636e-07 - accuracy: 1.0000 - val_loss: 8.7139 - val_accuracy: 0.7340\n",
      "Epoch 194/200\n",
      "105/105 [==============================] - 147s 1s/step - loss: 6.8335e-08 - accuracy: 1.0000 - val_loss: 8.6957 - val_accuracy: 0.7340\n",
      "Epoch 195/200\n",
      "105/105 [==============================] - 147s 1s/step - loss: 4.7190e-08 - accuracy: 1.0000 - val_loss: 8.7050 - val_accuracy: 0.7340\n",
      "Epoch 196/200\n",
      "105/105 [==============================] - 147s 1s/step - loss: 4.1838e-08 - accuracy: 1.0000 - val_loss: 8.7222 - val_accuracy: 0.7340\n",
      "Epoch 197/200\n",
      "105/105 [==============================] - 147s 1s/step - loss: 4.4943e-08 - accuracy: 1.0000 - val_loss: 8.7747 - val_accuracy: 0.7340\n",
      "Epoch 198/200\n",
      "105/105 [==============================] - 147s 1s/step - loss: 3.5835e-08 - accuracy: 1.0000 - val_loss: 8.7980 - val_accuracy: 0.7340\n",
      "Epoch 199/200\n",
      "105/105 [==============================] - 147s 1s/step - loss: 2.4929e-08 - accuracy: 1.0000 - val_loss: 8.8540 - val_accuracy: 0.7324\n",
      "Epoch 200/200\n",
      "105/105 [==============================] - 147s 1s/step - loss: 5.5345e-08 - accuracy: 1.0000 - val_loss: 8.9707 - val_accuracy: 0.7308\n"
     ]
    }
   ],
   "source": [
    "#run the model\n",
    "history = cnn.fit(cnn_train_images,\n",
    "                    cnn_train_labels,\n",
    "                    epochs=200,\n",
    "                    batch_size=50,\n",
    "                    validation_data=(cnn_test_images, cnn_test_labels))"
   ]
  },
  {
   "cell_type": "code",
   "execution_count": null,
   "metadata": {
    "colab": {
     "base_uri": "https://localhost:8080/"
    },
    "id": "EdTcVPwFpUyk",
    "outputId": "0c405d1c-ece3-4118-b9e3-cedcec7f7566"
   },
   "outputs": [
    {
     "name": "stdout",
     "output_type": "stream",
     "text": [
      "20/20 - 4s - loss: 8.9707 - accuracy: 0.7308 - 4s/epoch - 193ms/step\n"
     ]
    },
    {
     "data": {
      "text/plain": [
       "[8.970744132995605, 0.7307692170143127]"
      ]
     },
     "execution_count": 44,
     "metadata": {},
     "output_type": "execute_result"
    }
   ],
   "source": [
    "cnn_scores = cnn.evaluate(cnn_test_images, cnn_test_labels, verbose=2)\n",
    "cnn_scores"
   ]
  },
  {
   "cell_type": "code",
   "execution_count": null,
   "metadata": {
    "colab": {
     "base_uri": "https://localhost:8080/",
     "height": 573
    },
    "id": "aH8S26bqYuXN",
    "outputId": "1f799401-6809-4341-d0d5-3e6c20af6c5c"
   },
   "outputs": [
    {
     "data": {
      "image/png": "[encoded data removed]",
      "text/plain": [
       "<Figure size 432x288 with 1 Axes>"
      ]
     },
     "metadata": {
      "needs_background": "light"
     },
     "output_type": "display_data"
    },
    {
     "data": {
      "image/png": "[encoded data removed]",
      "text/plain": [
       "<Figure size 432x288 with 1 Axes>"
      ]
     },
     "metadata": {
      "needs_background": "light"
     },
     "output_type": "display_data"
    }
   ],
   "source": [
    "visualize_training_results(history)"
   ]
  },
  {
   "cell_type": "code",
   "execution_count": null,
   "metadata": {
    "colab": {
     "base_uri": "https://localhost:8080/",
     "height": 513
    },
    "id": "Be4ATQzigRNx",
    "outputId": "afafb83a-906b-4e11-a558-5d533a026d0f"
   },
   "outputs": [
    {
     "data": {
      "image/png": "[encoded data removed]",
      "text/plain": [
       "<Figure size 1296x576 with 3 Axes>"
      ]
     },
     "metadata": {
      "needs_background": "light"
     },
     "output_type": "display_data"
    }
   ],
   "source": [
    "#normal = 0, pneumonia = 1\n",
    "fig, ax = plt.subplots(figsize=(18, 8))\n",
    "y_hat_test = cnn.predict(cnn_test_images)\n",
    "thresh = 0.5\n",
    "y_pred = (y_hat_test > thresh).astype(np.int)\n",
    "y_true = cnn_test_labels.astype(np.int)\n",
    "cm = confusion_matrix(y_true, y_pred)\n",
    "sns.heatmap(cm, annot = True, cmap = 'Blues', fmt = '0.5g')\n",
    "sns.heatmap(cm, annot = True, cmap = 'Blues', fmt = '0.5g')\n",
    "plt.xlabel('Predictions')\n",
    "plt.ylabel('Actuals')\n",
    "plt.title('Confusion Matrix')\n",
    "plt.show()"
   ]
  },
  {
   "cell_type": "code",
   "execution_count": null,
   "metadata": {
    "colab": {
     "base_uri": "https://localhost:8080/"
    },
    "id": "oVGgHy-v28zA",
    "outputId": "b8e31979-0b48-403c-fb8a-a912b4851d71"
   },
   "outputs": [
    {
     "name": "stdout",
     "output_type": "stream",
     "text": [
      "              precision    recall  f1-score   support\n",
      "\n",
      "           0       0.96      0.29      0.45       234\n",
      "           1       0.70      0.99      0.82       390\n",
      "\n",
      "    accuracy                           0.73       624\n",
      "   macro avg       0.83      0.64      0.64       624\n",
      "weighted avg       0.80      0.73      0.68       624\n",
      "\n"
     ]
    }
   ],
   "source": [
    "print(classification_report(y_true, y_pred))"
   ]
  },
  {
   "cell_type": "code",
   "execution_count": null,
   "metadata": {
    "id": "2ABTzu7BbBMd"
   },
   "outputs": [],
   "source": [
    "!mkdir -p saved_model\n",
    "cnn.save('cnn.h5')\n",
    "cnn.save_weights('model_weights.h5')"
   ]
  },
  {
   "cell_type": "code",
   "execution_count": null,
   "metadata": {
    "id": "o1j6lOo8mKn3"
   },
   "outputs": [],
   "source": [
    "my_model = load_model('cnn.h5')\n",
    "my_model.load_weights('model_weights.h5')"
   ]
  },
  {
   "cell_type": "markdown",
   "metadata": {
    "id": "QuTXqSlaA8yO"
   },
   "source": [
    "# **Baseline CNN Results.**\n",
    "\n",
    "- Baseline model with no parameters gave us a 73% accuracy rate.\n",
    "- Model accuracy doesn't show improvement after 20 epochs.\n",
    "- Model showed a large amount of overfitting.\n",
    "- This model could be improved/tuned by using differnet activation functions, trying different optimizers, and different degrees of dropouts.\n",
    "- Confusion Matrix showed a lot of false negatives."
   ]
  },
  {
   "cell_type": "markdown",
   "metadata": {
    "id": "rE5_9FYEyJAw"
   },
   "source": [
    "# **Tuned CNN**."
   ]
  },
  {
   "cell_type": "code",
   "execution_count": null,
   "metadata": {
    "colab": {
     "base_uri": "https://localhost:8080/"
    },
    "id": "GkCbp7H7lLD2",
    "outputId": "a02884a1-6324-4c36-887a-8013017f40f0"
   },
   "outputs": [
    {
     "name": "stdout",
     "output_type": "stream",
     "text": [
      "Epoch 1/200\n",
      "105/105 [==============================] - 157s 1s/step - loss: 0.2422 - accuracy: 0.9024 - val_loss: 0.6682 - val_accuracy: 0.7869\n",
      "Epoch 2/200\n",
      "105/105 [==============================] - 156s 1s/step - loss: 0.1073 - accuracy: 0.9590 - val_loss: 0.7458 - val_accuracy: 0.7420\n",
      "Epoch 3/200\n",
      "105/105 [==============================] - 153s 1s/step - loss: 0.0832 - accuracy: 0.9672 - val_loss: 1.2878 - val_accuracy: 0.7035\n",
      "Epoch 4/200\n",
      "105/105 [==============================] - 154s 1s/step - loss: 0.0507 - accuracy: 0.9810 - val_loss: 1.0838 - val_accuracy: 0.7821\n",
      "Epoch 5/200\n",
      "105/105 [==============================] - 153s 1s/step - loss: 0.0496 - accuracy: 0.9816 - val_loss: 1.6724 - val_accuracy: 0.7212\n",
      "Epoch 6/200\n",
      "105/105 [==============================] - 152s 1s/step - loss: 0.0335 - accuracy: 0.9858 - val_loss: 1.9200 - val_accuracy: 0.7179\n",
      "Epoch 7/200\n",
      "105/105 [==============================] - 153s 1s/step - loss: 0.0243 - accuracy: 0.9916 - val_loss: 1.5262 - val_accuracy: 0.7500\n",
      "Epoch 8/200\n",
      "105/105 [==============================] - 152s 1s/step - loss: 0.0182 - accuracy: 0.9925 - val_loss: 1.7627 - val_accuracy: 0.7340\n",
      "Epoch 9/200\n",
      "105/105 [==============================] - 155s 1s/step - loss: 0.0138 - accuracy: 0.9954 - val_loss: 3.0337 - val_accuracy: 0.6779\n",
      "Epoch 10/200\n",
      "105/105 [==============================] - 151s 1s/step - loss: 0.0251 - accuracy: 0.9906 - val_loss: 2.4974 - val_accuracy: 0.7228\n",
      "Epoch 11/200\n",
      "105/105 [==============================] - 152s 1s/step - loss: 0.0127 - accuracy: 0.9946 - val_loss: 2.5236 - val_accuracy: 0.7196\n",
      "Epoch 12/200\n",
      "105/105 [==============================] - 153s 1s/step - loss: 0.0104 - accuracy: 0.9954 - val_loss: 2.9293 - val_accuracy: 0.7260\n",
      "Epoch 13/200\n",
      "105/105 [==============================] - 152s 1s/step - loss: 0.0108 - accuracy: 0.9958 - val_loss: 2.8089 - val_accuracy: 0.7388\n",
      "Epoch 14/200\n",
      "105/105 [==============================] - 153s 1s/step - loss: 0.0070 - accuracy: 0.9971 - val_loss: 2.5498 - val_accuracy: 0.7628\n",
      "Epoch 15/200\n",
      "105/105 [==============================] - 154s 1s/step - loss: 0.0258 - accuracy: 0.9902 - val_loss: 2.3956 - val_accuracy: 0.7500\n",
      "Epoch 16/200\n",
      "105/105 [==============================] - 152s 1s/step - loss: 0.0066 - accuracy: 0.9977 - val_loss: 2.3808 - val_accuracy: 0.7436\n"
     ]
    }
   ],
   "source": [
    "model = Sequential()\n",
    "model.add(layers.Conv2D(32, (3, 3), activation='relu', input_shape=(IMG_HEIGHT, IMG_WIDTH, 3), padding='same'))\n",
    "model.add(layers.MaxPool2D(pool_size=(2, 2)))\n",
    "model.add(layers.Conv2D(64, (3, 3), activation='relu', padding='same'))\n",
    "model.add(layers.MaxPool2D(pool_size=(2, 2)))\n",
    "model.add(layers.Conv2D(128, (3, 3), activation='relu', padding='same'))\n",
    "model.add(layers.MaxPool2D(pool_size=(3, 3)))\n",
    "model.add(layers.Flatten())\n",
    "model.add(layers.Dense(120, activation='relu'))\n",
    "model.add(layers.Dense(60, activation='relu'))\n",
    "model.add(layers.Dropout(.1))\n",
    "model.add(layers.Dense(1, activation='sigmoid'))\n",
    "\n",
    "model.compile(loss='binary_crossentropy', optimizer='adam', metrics='accuracy')\n",
    "es = EarlyStopping(patience=15, monitor= 'val_accuracy', restore_best_weights=True)\n",
    "\n",
    "tuned_cnn = model.fit(cnn_train_images, \n",
    "            cnn_train_labels,\n",
    "            batch_size = 50,\n",
    "            epochs = 200,\n",
    "            validation_data=(cnn_test_images, cnn_test_labels),\n",
    "            callbacks = es)"
   ]
  },
  {
   "cell_type": "code",
   "execution_count": null,
   "metadata": {
    "id": "rLW9aVBGuVUy"
   },
   "outputs": [],
   "source": [
    "!mkdir -p saved_model\n",
    "model.save('tuned_cnn.h5')\n",
    "model.save_weights('tuned_cnn.weights.h5')"
   ]
  },
  {
   "cell_type": "code",
   "execution_count": null,
   "metadata": {
    "colab": {
     "base_uri": "https://localhost:8080/",
     "height": 573
    },
    "id": "7uLjuh0XDMsi",
    "outputId": "7b393244-2f19-49bc-976f-b037178a450c"
   },
   "outputs": [
    {
     "data": {
      "image/png": "[encoded data removed]",
      "text/plain": [
       "<Figure size 432x288 with 1 Axes>"
      ]
     },
     "metadata": {
      "needs_background": "light"
     },
     "output_type": "display_data"
    },
    {
     "data": {
      "image/png": "[encoded data removed]",
      "text/plain": [
       "<Figure size 432x288 with 1 Axes>"
      ]
     },
     "metadata": {
      "needs_background": "light"
     },
     "output_type": "display_data"
    }
   ],
   "source": [
    "visualize_training_results(tuned_cnn)"
   ]
  },
  {
   "cell_type": "code",
   "execution_count": null,
   "metadata": {
    "colab": {
     "base_uri": "https://localhost:8080/"
    },
    "id": "ShtjyvNyvxsO",
    "outputId": "a85837d7-0bc2-43c4-8cf8-95b27bb3770c"
   },
   "outputs": [
    {
     "name": "stdout",
     "output_type": "stream",
     "text": [
      "20/20 - 4s - loss: 0.6682 - accuracy: 0.7869 - 4s/epoch - 193ms/step\n"
     ]
    },
    {
     "data": {
      "text/plain": [
       "[0.668186604976654, 0.7868589758872986]"
      ]
     },
     "execution_count": 63,
     "metadata": {},
     "output_type": "execute_result"
    }
   ],
   "source": [
    "cnn_scores = model.evaluate(cnn_test_images, cnn_test_labels, verbose=2)\n",
    "cnn_scores"
   ]
  },
  {
   "cell_type": "code",
   "execution_count": null,
   "metadata": {
    "colab": {
     "base_uri": "https://localhost:8080/",
     "height": 513
    },
    "id": "DVqP2aWG7anI",
    "outputId": "e7f60935-43ed-43be-b9c2-3df4b6f1de66"
   },
   "outputs": [
    {
     "data": {
      "image/png": "[encoded data removed]",
      "text/plain": [
       "<Figure size 1296x576 with 3 Axes>"
      ]
     },
     "metadata": {
      "needs_background": "light"
     },
     "output_type": "display_data"
    }
   ],
   "source": [
    "#normal = 0, pneumonia = 1\n",
    "fig, ax = plt.subplots(figsize=(18, 8))\n",
    "y_hat_test = model.predict(cnn_test_images)\n",
    "thresh = 0.5\n",
    "y_pred = (y_hat_test > thresh).astype(np.int)\n",
    "y_true = cnn_test_labels.astype(np.int)\n",
    "cm = confusion_matrix(y_true, y_pred)\n",
    "sns.heatmap(cm, annot = True, cmap = 'Blues', fmt = '0.5g')\n",
    "sns.heatmap(cm, annot = True, cmap = 'Blues', fmt = '0.5g')\n",
    "plt.xlabel('Predictions')\n",
    "plt.ylabel('Actuals')\n",
    "plt.title('Confusion Matrix')\n",
    "plt.show()"
   ]
  },
  {
   "cell_type": "markdown",
   "metadata": {
    "id": "WPCB1ItpBhfd"
   },
   "source": [
    "# **Tuned CNN Results.**"
   ]
  },
  {
   "cell_type": "markdown",
   "metadata": {
    "id": "S9IM5m73Ae5J"
   },
   "source": [
    "- Tuning the CNN with early stopping and a lower droprate increased our accuracy to 79%.\n",
    "- Unable to produce accuracy report as notebook timed out and forced reset our models. Will not repeat as accuracy showed the same as the recall rate on previous models. \n",
    "- Still shows signs of overfitting.\n",
    "- Our early stop stopped the model at 16 epochs stating that the model will not improve after that number of epochs.\n",
    "- Possible to increase accuracy if we change the learning rate and modified droprate sooner. "
   ]
  }
 ],
 "metadata": {
  "colab": {
   "authorship_tag": "ABX9TyNyZtyy7OUK+9Lj/EmOQqyX",
   "collapsed_sections": [],
   "include_colab_link": true,
   "machine_shape": "hm",
   "mount_file_id": "17CssWBNbMU6iNFtjr8OdVmpVGffFNXkD",
   "name": "Pneumonia and CNN",
   "provenance": []
  },
  "kernelspec": {
   "display_name": "Python 3",
   "language": "python",
   "name": "python3"
  },
  "language_info": {
   "codemirror_mode": {
    "name": "ipython",
    "version": 3
   },
   "file_extension": ".py",
   "mimetype": "text/x-python",
   "name": "python",
   "nbconvert_exporter": "python",
   "pygments_lexer": "ipython3",
   "version": "3.8.5"
  }
 },
 "nbformat": 4,
 "nbformat_minor": 1
}
